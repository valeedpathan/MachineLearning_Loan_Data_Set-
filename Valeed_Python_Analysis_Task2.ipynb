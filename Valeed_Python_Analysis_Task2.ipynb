{
  "cells": [
    {
      "cell_type": "markdown",
      "id": "fa14e576",
      "metadata": {
        "id": "fa14e576"
      },
      "source": [
        "## Importing the Libraries"
      ]
    },
    {
      "cell_type": "code",
      "execution_count": 1,
      "id": "b75a3dec",
      "metadata": {
        "id": "b75a3dec"
      },
      "outputs": [],
      "source": [
        "import pandas as pd\n",
        "import numpy as np\n",
        "from sklearn.model_selection import train_test_split\n",
        "import matplotlib.pyplot as plt\n",
        "%matplotlib inline\n",
        "import seaborn as sns\n",
        "import xgboost as xgb\n",
        "import warnings\n",
        "warnings.filterwarnings('ignore')"
      ]
    },
    {
      "cell_type": "markdown",
      "id": "bb955f01",
      "metadata": {
        "id": "bb955f01"
      },
      "source": [
        "## Loading the Datasets"
      ]
    },
    {
      "cell_type": "code",
      "execution_count": 4,
      "id": "498f5526",
      "metadata": {
        "id": "498f5526"
      },
      "outputs": [],
      "source": [
        "training = pd.read_csv('https://raw.githubusercontent.com/mridulrb/Predict-loan-eligibility-using-IBM-Watson-Studio/master/Dataset/train_ctrUa4K.csv')"
      ]
    },
    {
      "cell_type": "code",
      "execution_count": 5,
      "id": "67eea09d",
      "metadata": {
        "scrolled": false,
        "colab": {
          "base_uri": "https://localhost:8080/",
          "height": 461
        },
        "id": "67eea09d",
        "outputId": "9c794249-e71b-4252-a46f-0765229f5b81"
      },
      "outputs": [
        {
          "output_type": "execute_result",
          "data": {
            "text/plain": [
              "      Loan_ID  Gender Married Dependents     Education Self_Employed  \\\n",
              "0    LP001002    Male      No          0      Graduate            No   \n",
              "1    LP001003    Male     Yes          1      Graduate            No   \n",
              "2    LP001005    Male     Yes          0      Graduate           Yes   \n",
              "3    LP001006    Male     Yes          0  Not Graduate            No   \n",
              "4    LP001008    Male      No          0      Graduate            No   \n",
              "..        ...     ...     ...        ...           ...           ...   \n",
              "609  LP002978  Female      No          0      Graduate            No   \n",
              "610  LP002979    Male     Yes         3+      Graduate            No   \n",
              "611  LP002983    Male     Yes          1      Graduate            No   \n",
              "612  LP002984    Male     Yes          2      Graduate            No   \n",
              "613  LP002990  Female      No          0      Graduate           Yes   \n",
              "\n",
              "     ApplicantIncome  CoapplicantIncome  LoanAmount  Loan_Amount_Term  \\\n",
              "0               5849                0.0         NaN             360.0   \n",
              "1               4583             1508.0       128.0             360.0   \n",
              "2               3000                0.0        66.0             360.0   \n",
              "3               2583             2358.0       120.0             360.0   \n",
              "4               6000                0.0       141.0             360.0   \n",
              "..               ...                ...         ...               ...   \n",
              "609             2900                0.0        71.0             360.0   \n",
              "610             4106                0.0        40.0             180.0   \n",
              "611             8072              240.0       253.0             360.0   \n",
              "612             7583                0.0       187.0             360.0   \n",
              "613             4583                0.0       133.0             360.0   \n",
              "\n",
              "     Credit_History Property_Area Loan_Status  \n",
              "0               1.0         Urban           Y  \n",
              "1               1.0         Rural           N  \n",
              "2               1.0         Urban           Y  \n",
              "3               1.0         Urban           Y  \n",
              "4               1.0         Urban           Y  \n",
              "..              ...           ...         ...  \n",
              "609             1.0         Rural           Y  \n",
              "610             1.0         Rural           Y  \n",
              "611             1.0         Urban           Y  \n",
              "612             1.0         Urban           Y  \n",
              "613             0.0     Semiurban           N  \n",
              "\n",
              "[614 rows x 13 columns]"
            ],
            "text/html": [
              "\n",
              "  <div id=\"df-42444461-391d-4f91-a53a-0fdc76cf06b6\" class=\"colab-df-container\">\n",
              "    <div>\n",
              "<style scoped>\n",
              "    .dataframe tbody tr th:only-of-type {\n",
              "        vertical-align: middle;\n",
              "    }\n",
              "\n",
              "    .dataframe tbody tr th {\n",
              "        vertical-align: top;\n",
              "    }\n",
              "\n",
              "    .dataframe thead th {\n",
              "        text-align: right;\n",
              "    }\n",
              "</style>\n",
              "<table border=\"1\" class=\"dataframe\">\n",
              "  <thead>\n",
              "    <tr style=\"text-align: right;\">\n",
              "      <th></th>\n",
              "      <th>Loan_ID</th>\n",
              "      <th>Gender</th>\n",
              "      <th>Married</th>\n",
              "      <th>Dependents</th>\n",
              "      <th>Education</th>\n",
              "      <th>Self_Employed</th>\n",
              "      <th>ApplicantIncome</th>\n",
              "      <th>CoapplicantIncome</th>\n",
              "      <th>LoanAmount</th>\n",
              "      <th>Loan_Amount_Term</th>\n",
              "      <th>Credit_History</th>\n",
              "      <th>Property_Area</th>\n",
              "      <th>Loan_Status</th>\n",
              "    </tr>\n",
              "  </thead>\n",
              "  <tbody>\n",
              "    <tr>\n",
              "      <th>0</th>\n",
              "      <td>LP001002</td>\n",
              "      <td>Male</td>\n",
              "      <td>No</td>\n",
              "      <td>0</td>\n",
              "      <td>Graduate</td>\n",
              "      <td>No</td>\n",
              "      <td>5849</td>\n",
              "      <td>0.0</td>\n",
              "      <td>NaN</td>\n",
              "      <td>360.0</td>\n",
              "      <td>1.0</td>\n",
              "      <td>Urban</td>\n",
              "      <td>Y</td>\n",
              "    </tr>\n",
              "    <tr>\n",
              "      <th>1</th>\n",
              "      <td>LP001003</td>\n",
              "      <td>Male</td>\n",
              "      <td>Yes</td>\n",
              "      <td>1</td>\n",
              "      <td>Graduate</td>\n",
              "      <td>No</td>\n",
              "      <td>4583</td>\n",
              "      <td>1508.0</td>\n",
              "      <td>128.0</td>\n",
              "      <td>360.0</td>\n",
              "      <td>1.0</td>\n",
              "      <td>Rural</td>\n",
              "      <td>N</td>\n",
              "    </tr>\n",
              "    <tr>\n",
              "      <th>2</th>\n",
              "      <td>LP001005</td>\n",
              "      <td>Male</td>\n",
              "      <td>Yes</td>\n",
              "      <td>0</td>\n",
              "      <td>Graduate</td>\n",
              "      <td>Yes</td>\n",
              "      <td>3000</td>\n",
              "      <td>0.0</td>\n",
              "      <td>66.0</td>\n",
              "      <td>360.0</td>\n",
              "      <td>1.0</td>\n",
              "      <td>Urban</td>\n",
              "      <td>Y</td>\n",
              "    </tr>\n",
              "    <tr>\n",
              "      <th>3</th>\n",
              "      <td>LP001006</td>\n",
              "      <td>Male</td>\n",
              "      <td>Yes</td>\n",
              "      <td>0</td>\n",
              "      <td>Not Graduate</td>\n",
              "      <td>No</td>\n",
              "      <td>2583</td>\n",
              "      <td>2358.0</td>\n",
              "      <td>120.0</td>\n",
              "      <td>360.0</td>\n",
              "      <td>1.0</td>\n",
              "      <td>Urban</td>\n",
              "      <td>Y</td>\n",
              "    </tr>\n",
              "    <tr>\n",
              "      <th>4</th>\n",
              "      <td>LP001008</td>\n",
              "      <td>Male</td>\n",
              "      <td>No</td>\n",
              "      <td>0</td>\n",
              "      <td>Graduate</td>\n",
              "      <td>No</td>\n",
              "      <td>6000</td>\n",
              "      <td>0.0</td>\n",
              "      <td>141.0</td>\n",
              "      <td>360.0</td>\n",
              "      <td>1.0</td>\n",
              "      <td>Urban</td>\n",
              "      <td>Y</td>\n",
              "    </tr>\n",
              "    <tr>\n",
              "      <th>...</th>\n",
              "      <td>...</td>\n",
              "      <td>...</td>\n",
              "      <td>...</td>\n",
              "      <td>...</td>\n",
              "      <td>...</td>\n",
              "      <td>...</td>\n",
              "      <td>...</td>\n",
              "      <td>...</td>\n",
              "      <td>...</td>\n",
              "      <td>...</td>\n",
              "      <td>...</td>\n",
              "      <td>...</td>\n",
              "      <td>...</td>\n",
              "    </tr>\n",
              "    <tr>\n",
              "      <th>609</th>\n",
              "      <td>LP002978</td>\n",
              "      <td>Female</td>\n",
              "      <td>No</td>\n",
              "      <td>0</td>\n",
              "      <td>Graduate</td>\n",
              "      <td>No</td>\n",
              "      <td>2900</td>\n",
              "      <td>0.0</td>\n",
              "      <td>71.0</td>\n",
              "      <td>360.0</td>\n",
              "      <td>1.0</td>\n",
              "      <td>Rural</td>\n",
              "      <td>Y</td>\n",
              "    </tr>\n",
              "    <tr>\n",
              "      <th>610</th>\n",
              "      <td>LP002979</td>\n",
              "      <td>Male</td>\n",
              "      <td>Yes</td>\n",
              "      <td>3+</td>\n",
              "      <td>Graduate</td>\n",
              "      <td>No</td>\n",
              "      <td>4106</td>\n",
              "      <td>0.0</td>\n",
              "      <td>40.0</td>\n",
              "      <td>180.0</td>\n",
              "      <td>1.0</td>\n",
              "      <td>Rural</td>\n",
              "      <td>Y</td>\n",
              "    </tr>\n",
              "    <tr>\n",
              "      <th>611</th>\n",
              "      <td>LP002983</td>\n",
              "      <td>Male</td>\n",
              "      <td>Yes</td>\n",
              "      <td>1</td>\n",
              "      <td>Graduate</td>\n",
              "      <td>No</td>\n",
              "      <td>8072</td>\n",
              "      <td>240.0</td>\n",
              "      <td>253.0</td>\n",
              "      <td>360.0</td>\n",
              "      <td>1.0</td>\n",
              "      <td>Urban</td>\n",
              "      <td>Y</td>\n",
              "    </tr>\n",
              "    <tr>\n",
              "      <th>612</th>\n",
              "      <td>LP002984</td>\n",
              "      <td>Male</td>\n",
              "      <td>Yes</td>\n",
              "      <td>2</td>\n",
              "      <td>Graduate</td>\n",
              "      <td>No</td>\n",
              "      <td>7583</td>\n",
              "      <td>0.0</td>\n",
              "      <td>187.0</td>\n",
              "      <td>360.0</td>\n",
              "      <td>1.0</td>\n",
              "      <td>Urban</td>\n",
              "      <td>Y</td>\n",
              "    </tr>\n",
              "    <tr>\n",
              "      <th>613</th>\n",
              "      <td>LP002990</td>\n",
              "      <td>Female</td>\n",
              "      <td>No</td>\n",
              "      <td>0</td>\n",
              "      <td>Graduate</td>\n",
              "      <td>Yes</td>\n",
              "      <td>4583</td>\n",
              "      <td>0.0</td>\n",
              "      <td>133.0</td>\n",
              "      <td>360.0</td>\n",
              "      <td>0.0</td>\n",
              "      <td>Semiurban</td>\n",
              "      <td>N</td>\n",
              "    </tr>\n",
              "  </tbody>\n",
              "</table>\n",
              "<p>614 rows × 13 columns</p>\n",
              "</div>\n",
              "    <div class=\"colab-df-buttons\">\n",
              "\n",
              "  <div class=\"colab-df-container\">\n",
              "    <button class=\"colab-df-convert\" onclick=\"convertToInteractive('df-42444461-391d-4f91-a53a-0fdc76cf06b6')\"\n",
              "            title=\"Convert this dataframe to an interactive table.\"\n",
              "            style=\"display:none;\">\n",
              "\n",
              "  <svg xmlns=\"http://www.w3.org/2000/svg\" height=\"24px\" viewBox=\"0 -960 960 960\">\n",
              "    <path d=\"M120-120v-720h720v720H120Zm60-500h600v-160H180v160Zm220 220h160v-160H400v160Zm0 220h160v-160H400v160ZM180-400h160v-160H180v160Zm440 0h160v-160H620v160ZM180-180h160v-160H180v160Zm440 0h160v-160H620v160Z\"/>\n",
              "  </svg>\n",
              "    </button>\n",
              "\n",
              "  <style>\n",
              "    .colab-df-container {\n",
              "      display:flex;\n",
              "      gap: 12px;\n",
              "    }\n",
              "\n",
              "    .colab-df-convert {\n",
              "      background-color: #E8F0FE;\n",
              "      border: none;\n",
              "      border-radius: 50%;\n",
              "      cursor: pointer;\n",
              "      display: none;\n",
              "      fill: #1967D2;\n",
              "      height: 32px;\n",
              "      padding: 0 0 0 0;\n",
              "      width: 32px;\n",
              "    }\n",
              "\n",
              "    .colab-df-convert:hover {\n",
              "      background-color: #E2EBFA;\n",
              "      box-shadow: 0px 1px 2px rgba(60, 64, 67, 0.3), 0px 1px 3px 1px rgba(60, 64, 67, 0.15);\n",
              "      fill: #174EA6;\n",
              "    }\n",
              "\n",
              "    .colab-df-buttons div {\n",
              "      margin-bottom: 4px;\n",
              "    }\n",
              "\n",
              "    [theme=dark] .colab-df-convert {\n",
              "      background-color: #3B4455;\n",
              "      fill: #D2E3FC;\n",
              "    }\n",
              "\n",
              "    [theme=dark] .colab-df-convert:hover {\n",
              "      background-color: #434B5C;\n",
              "      box-shadow: 0px 1px 3px 1px rgba(0, 0, 0, 0.15);\n",
              "      filter: drop-shadow(0px 1px 2px rgba(0, 0, 0, 0.3));\n",
              "      fill: #FFFFFF;\n",
              "    }\n",
              "  </style>\n",
              "\n",
              "    <script>\n",
              "      const buttonEl =\n",
              "        document.querySelector('#df-42444461-391d-4f91-a53a-0fdc76cf06b6 button.colab-df-convert');\n",
              "      buttonEl.style.display =\n",
              "        google.colab.kernel.accessAllowed ? 'block' : 'none';\n",
              "\n",
              "      async function convertToInteractive(key) {\n",
              "        const element = document.querySelector('#df-42444461-391d-4f91-a53a-0fdc76cf06b6');\n",
              "        const dataTable =\n",
              "          await google.colab.kernel.invokeFunction('convertToInteractive',\n",
              "                                                    [key], {});\n",
              "        if (!dataTable) return;\n",
              "\n",
              "        const docLinkHtml = 'Like what you see? Visit the ' +\n",
              "          '<a target=\"_blank\" href=https://colab.research.google.com/notebooks/data_table.ipynb>data table notebook</a>'\n",
              "          + ' to learn more about interactive tables.';\n",
              "        element.innerHTML = '';\n",
              "        dataTable['output_type'] = 'display_data';\n",
              "        await google.colab.output.renderOutput(dataTable, element);\n",
              "        const docLink = document.createElement('div');\n",
              "        docLink.innerHTML = docLinkHtml;\n",
              "        element.appendChild(docLink);\n",
              "      }\n",
              "    </script>\n",
              "  </div>\n",
              "\n",
              "\n",
              "<div id=\"df-51fdcce3-adcc-4eca-88a0-e2efe711db37\">\n",
              "  <button class=\"colab-df-quickchart\" onclick=\"quickchart('df-51fdcce3-adcc-4eca-88a0-e2efe711db37')\"\n",
              "            title=\"Suggest charts\"\n",
              "            style=\"display:none;\">\n",
              "\n",
              "<svg xmlns=\"http://www.w3.org/2000/svg\" height=\"24px\"viewBox=\"0 0 24 24\"\n",
              "     width=\"24px\">\n",
              "    <g>\n",
              "        <path d=\"M19 3H5c-1.1 0-2 .9-2 2v14c0 1.1.9 2 2 2h14c1.1 0 2-.9 2-2V5c0-1.1-.9-2-2-2zM9 17H7v-7h2v7zm4 0h-2V7h2v10zm4 0h-2v-4h2v4z\"/>\n",
              "    </g>\n",
              "</svg>\n",
              "  </button>\n",
              "\n",
              "<style>\n",
              "  .colab-df-quickchart {\n",
              "      --bg-color: #E8F0FE;\n",
              "      --fill-color: #1967D2;\n",
              "      --hover-bg-color: #E2EBFA;\n",
              "      --hover-fill-color: #174EA6;\n",
              "      --disabled-fill-color: #AAA;\n",
              "      --disabled-bg-color: #DDD;\n",
              "  }\n",
              "\n",
              "  [theme=dark] .colab-df-quickchart {\n",
              "      --bg-color: #3B4455;\n",
              "      --fill-color: #D2E3FC;\n",
              "      --hover-bg-color: #434B5C;\n",
              "      --hover-fill-color: #FFFFFF;\n",
              "      --disabled-bg-color: #3B4455;\n",
              "      --disabled-fill-color: #666;\n",
              "  }\n",
              "\n",
              "  .colab-df-quickchart {\n",
              "    background-color: var(--bg-color);\n",
              "    border: none;\n",
              "    border-radius: 50%;\n",
              "    cursor: pointer;\n",
              "    display: none;\n",
              "    fill: var(--fill-color);\n",
              "    height: 32px;\n",
              "    padding: 0;\n",
              "    width: 32px;\n",
              "  }\n",
              "\n",
              "  .colab-df-quickchart:hover {\n",
              "    background-color: var(--hover-bg-color);\n",
              "    box-shadow: 0 1px 2px rgba(60, 64, 67, 0.3), 0 1px 3px 1px rgba(60, 64, 67, 0.15);\n",
              "    fill: var(--button-hover-fill-color);\n",
              "  }\n",
              "\n",
              "  .colab-df-quickchart-complete:disabled,\n",
              "  .colab-df-quickchart-complete:disabled:hover {\n",
              "    background-color: var(--disabled-bg-color);\n",
              "    fill: var(--disabled-fill-color);\n",
              "    box-shadow: none;\n",
              "  }\n",
              "\n",
              "  .colab-df-spinner {\n",
              "    border: 2px solid var(--fill-color);\n",
              "    border-color: transparent;\n",
              "    border-bottom-color: var(--fill-color);\n",
              "    animation:\n",
              "      spin 1s steps(1) infinite;\n",
              "  }\n",
              "\n",
              "  @keyframes spin {\n",
              "    0% {\n",
              "      border-color: transparent;\n",
              "      border-bottom-color: var(--fill-color);\n",
              "      border-left-color: var(--fill-color);\n",
              "    }\n",
              "    20% {\n",
              "      border-color: transparent;\n",
              "      border-left-color: var(--fill-color);\n",
              "      border-top-color: var(--fill-color);\n",
              "    }\n",
              "    30% {\n",
              "      border-color: transparent;\n",
              "      border-left-color: var(--fill-color);\n",
              "      border-top-color: var(--fill-color);\n",
              "      border-right-color: var(--fill-color);\n",
              "    }\n",
              "    40% {\n",
              "      border-color: transparent;\n",
              "      border-right-color: var(--fill-color);\n",
              "      border-top-color: var(--fill-color);\n",
              "    }\n",
              "    60% {\n",
              "      border-color: transparent;\n",
              "      border-right-color: var(--fill-color);\n",
              "    }\n",
              "    80% {\n",
              "      border-color: transparent;\n",
              "      border-right-color: var(--fill-color);\n",
              "      border-bottom-color: var(--fill-color);\n",
              "    }\n",
              "    90% {\n",
              "      border-color: transparent;\n",
              "      border-bottom-color: var(--fill-color);\n",
              "    }\n",
              "  }\n",
              "</style>\n",
              "\n",
              "  <script>\n",
              "    async function quickchart(key) {\n",
              "      const quickchartButtonEl =\n",
              "        document.querySelector('#' + key + ' button');\n",
              "      quickchartButtonEl.disabled = true;  // To prevent multiple clicks.\n",
              "      quickchartButtonEl.classList.add('colab-df-spinner');\n",
              "      try {\n",
              "        const charts = await google.colab.kernel.invokeFunction(\n",
              "            'suggestCharts', [key], {});\n",
              "      } catch (error) {\n",
              "        console.error('Error during call to suggestCharts:', error);\n",
              "      }\n",
              "      quickchartButtonEl.classList.remove('colab-df-spinner');\n",
              "      quickchartButtonEl.classList.add('colab-df-quickchart-complete');\n",
              "    }\n",
              "    (() => {\n",
              "      let quickchartButtonEl =\n",
              "        document.querySelector('#df-51fdcce3-adcc-4eca-88a0-e2efe711db37 button');\n",
              "      quickchartButtonEl.style.display =\n",
              "        google.colab.kernel.accessAllowed ? 'block' : 'none';\n",
              "    })();\n",
              "  </script>\n",
              "</div>\n",
              "\n",
              "  <div id=\"id_0c0e4e62-e60d-432c-b227-cd09d99f180a\">\n",
              "    <style>\n",
              "      .colab-df-generate {\n",
              "        background-color: #E8F0FE;\n",
              "        border: none;\n",
              "        border-radius: 50%;\n",
              "        cursor: pointer;\n",
              "        display: none;\n",
              "        fill: #1967D2;\n",
              "        height: 32px;\n",
              "        padding: 0 0 0 0;\n",
              "        width: 32px;\n",
              "      }\n",
              "\n",
              "      .colab-df-generate:hover {\n",
              "        background-color: #E2EBFA;\n",
              "        box-shadow: 0px 1px 2px rgba(60, 64, 67, 0.3), 0px 1px 3px 1px rgba(60, 64, 67, 0.15);\n",
              "        fill: #174EA6;\n",
              "      }\n",
              "\n",
              "      [theme=dark] .colab-df-generate {\n",
              "        background-color: #3B4455;\n",
              "        fill: #D2E3FC;\n",
              "      }\n",
              "\n",
              "      [theme=dark] .colab-df-generate:hover {\n",
              "        background-color: #434B5C;\n",
              "        box-shadow: 0px 1px 3px 1px rgba(0, 0, 0, 0.15);\n",
              "        filter: drop-shadow(0px 1px 2px rgba(0, 0, 0, 0.3));\n",
              "        fill: #FFFFFF;\n",
              "      }\n",
              "    </style>\n",
              "    <button class=\"colab-df-generate\" onclick=\"generateWithVariable('training')\"\n",
              "            title=\"Generate code using this dataframe.\"\n",
              "            style=\"display:none;\">\n",
              "\n",
              "  <svg xmlns=\"http://www.w3.org/2000/svg\" height=\"24px\"viewBox=\"0 0 24 24\"\n",
              "       width=\"24px\">\n",
              "    <path d=\"M7,19H8.4L18.45,9,17,7.55,7,17.6ZM5,21V16.75L18.45,3.32a2,2,0,0,1,2.83,0l1.4,1.43a1.91,1.91,0,0,1,.58,1.4,1.91,1.91,0,0,1-.58,1.4L9.25,21ZM18.45,9,17,7.55Zm-12,3A5.31,5.31,0,0,0,4.9,8.1,5.31,5.31,0,0,0,1,6.5,5.31,5.31,0,0,0,4.9,4.9,5.31,5.31,0,0,0,6.5,1,5.31,5.31,0,0,0,8.1,4.9,5.31,5.31,0,0,0,12,6.5,5.46,5.46,0,0,0,6.5,12Z\"/>\n",
              "  </svg>\n",
              "    </button>\n",
              "    <script>\n",
              "      (() => {\n",
              "      const buttonEl =\n",
              "        document.querySelector('#id_0c0e4e62-e60d-432c-b227-cd09d99f180a button.colab-df-generate');\n",
              "      buttonEl.style.display =\n",
              "        google.colab.kernel.accessAllowed ? 'block' : 'none';\n",
              "\n",
              "      buttonEl.onclick = () => {\n",
              "        google.colab.notebook.generateWithVariable('training');\n",
              "      }\n",
              "      })();\n",
              "    </script>\n",
              "  </div>\n",
              "\n",
              "    </div>\n",
              "  </div>\n"
            ]
          },
          "metadata": {},
          "execution_count": 5
        }
      ],
      "source": [
        "training"
      ]
    },
    {
      "cell_type": "code",
      "execution_count": 6,
      "id": "c3764345",
      "metadata": {
        "id": "c3764345"
      },
      "outputs": [],
      "source": [
        "testing = pd.read_csv('https://raw.githubusercontent.com/mridulrb/Predict-loan-eligibility-using-IBM-Watson-Studio/master/Dataset/test_lAUu6dG.csv')"
      ]
    },
    {
      "cell_type": "code",
      "execution_count": null,
      "id": "dc0d7ee6",
      "metadata": {
        "id": "dc0d7ee6",
        "outputId": "727a8095-b020-4a96-fbb5-6092b3d744d4"
      },
      "outputs": [
        {
          "data": {
            "text/html": [
              "<div>\n",
              "<style scoped>\n",
              "    .dataframe tbody tr th:only-of-type {\n",
              "        vertical-align: middle;\n",
              "    }\n",
              "\n",
              "    .dataframe tbody tr th {\n",
              "        vertical-align: top;\n",
              "    }\n",
              "\n",
              "    .dataframe thead th {\n",
              "        text-align: right;\n",
              "    }\n",
              "</style>\n",
              "<table border=\"1\" class=\"dataframe\">\n",
              "  <thead>\n",
              "    <tr style=\"text-align: right;\">\n",
              "      <th></th>\n",
              "      <th>Loan_ID</th>\n",
              "      <th>Gender</th>\n",
              "      <th>Married</th>\n",
              "      <th>Dependents</th>\n",
              "      <th>Education</th>\n",
              "      <th>Self_Employed</th>\n",
              "      <th>ApplicantIncome</th>\n",
              "      <th>CoapplicantIncome</th>\n",
              "      <th>LoanAmount</th>\n",
              "      <th>Loan_Amount_Term</th>\n",
              "      <th>Credit_History</th>\n",
              "      <th>Property_Area</th>\n",
              "    </tr>\n",
              "  </thead>\n",
              "  <tbody>\n",
              "    <tr>\n",
              "      <th>0</th>\n",
              "      <td>LP001015</td>\n",
              "      <td>Male</td>\n",
              "      <td>Yes</td>\n",
              "      <td>0</td>\n",
              "      <td>Graduate</td>\n",
              "      <td>No</td>\n",
              "      <td>5720</td>\n",
              "      <td>0</td>\n",
              "      <td>110.0</td>\n",
              "      <td>360.0</td>\n",
              "      <td>1.0</td>\n",
              "      <td>Urban</td>\n",
              "    </tr>\n",
              "    <tr>\n",
              "      <th>1</th>\n",
              "      <td>LP001022</td>\n",
              "      <td>Male</td>\n",
              "      <td>Yes</td>\n",
              "      <td>1</td>\n",
              "      <td>Graduate</td>\n",
              "      <td>No</td>\n",
              "      <td>3076</td>\n",
              "      <td>1500</td>\n",
              "      <td>126.0</td>\n",
              "      <td>360.0</td>\n",
              "      <td>1.0</td>\n",
              "      <td>Urban</td>\n",
              "    </tr>\n",
              "    <tr>\n",
              "      <th>2</th>\n",
              "      <td>LP001031</td>\n",
              "      <td>Male</td>\n",
              "      <td>Yes</td>\n",
              "      <td>2</td>\n",
              "      <td>Graduate</td>\n",
              "      <td>No</td>\n",
              "      <td>5000</td>\n",
              "      <td>1800</td>\n",
              "      <td>208.0</td>\n",
              "      <td>360.0</td>\n",
              "      <td>1.0</td>\n",
              "      <td>Urban</td>\n",
              "    </tr>\n",
              "    <tr>\n",
              "      <th>3</th>\n",
              "      <td>LP001035</td>\n",
              "      <td>Male</td>\n",
              "      <td>Yes</td>\n",
              "      <td>2</td>\n",
              "      <td>Graduate</td>\n",
              "      <td>No</td>\n",
              "      <td>2340</td>\n",
              "      <td>2546</td>\n",
              "      <td>100.0</td>\n",
              "      <td>360.0</td>\n",
              "      <td>NaN</td>\n",
              "      <td>Urban</td>\n",
              "    </tr>\n",
              "    <tr>\n",
              "      <th>4</th>\n",
              "      <td>LP001051</td>\n",
              "      <td>Male</td>\n",
              "      <td>No</td>\n",
              "      <td>0</td>\n",
              "      <td>Not Graduate</td>\n",
              "      <td>No</td>\n",
              "      <td>3276</td>\n",
              "      <td>0</td>\n",
              "      <td>78.0</td>\n",
              "      <td>360.0</td>\n",
              "      <td>1.0</td>\n",
              "      <td>Urban</td>\n",
              "    </tr>\n",
              "    <tr>\n",
              "      <th>...</th>\n",
              "      <td>...</td>\n",
              "      <td>...</td>\n",
              "      <td>...</td>\n",
              "      <td>...</td>\n",
              "      <td>...</td>\n",
              "      <td>...</td>\n",
              "      <td>...</td>\n",
              "      <td>...</td>\n",
              "      <td>...</td>\n",
              "      <td>...</td>\n",
              "      <td>...</td>\n",
              "      <td>...</td>\n",
              "    </tr>\n",
              "    <tr>\n",
              "      <th>362</th>\n",
              "      <td>LP002971</td>\n",
              "      <td>Male</td>\n",
              "      <td>Yes</td>\n",
              "      <td>3+</td>\n",
              "      <td>Not Graduate</td>\n",
              "      <td>Yes</td>\n",
              "      <td>4009</td>\n",
              "      <td>1777</td>\n",
              "      <td>113.0</td>\n",
              "      <td>360.0</td>\n",
              "      <td>1.0</td>\n",
              "      <td>Urban</td>\n",
              "    </tr>\n",
              "    <tr>\n",
              "      <th>363</th>\n",
              "      <td>LP002975</td>\n",
              "      <td>Male</td>\n",
              "      <td>Yes</td>\n",
              "      <td>0</td>\n",
              "      <td>Graduate</td>\n",
              "      <td>No</td>\n",
              "      <td>4158</td>\n",
              "      <td>709</td>\n",
              "      <td>115.0</td>\n",
              "      <td>360.0</td>\n",
              "      <td>1.0</td>\n",
              "      <td>Urban</td>\n",
              "    </tr>\n",
              "    <tr>\n",
              "      <th>364</th>\n",
              "      <td>LP002980</td>\n",
              "      <td>Male</td>\n",
              "      <td>No</td>\n",
              "      <td>0</td>\n",
              "      <td>Graduate</td>\n",
              "      <td>No</td>\n",
              "      <td>3250</td>\n",
              "      <td>1993</td>\n",
              "      <td>126.0</td>\n",
              "      <td>360.0</td>\n",
              "      <td>NaN</td>\n",
              "      <td>Semiurban</td>\n",
              "    </tr>\n",
              "    <tr>\n",
              "      <th>365</th>\n",
              "      <td>LP002986</td>\n",
              "      <td>Male</td>\n",
              "      <td>Yes</td>\n",
              "      <td>0</td>\n",
              "      <td>Graduate</td>\n",
              "      <td>No</td>\n",
              "      <td>5000</td>\n",
              "      <td>2393</td>\n",
              "      <td>158.0</td>\n",
              "      <td>360.0</td>\n",
              "      <td>1.0</td>\n",
              "      <td>Rural</td>\n",
              "    </tr>\n",
              "    <tr>\n",
              "      <th>366</th>\n",
              "      <td>LP002989</td>\n",
              "      <td>Male</td>\n",
              "      <td>No</td>\n",
              "      <td>0</td>\n",
              "      <td>Graduate</td>\n",
              "      <td>Yes</td>\n",
              "      <td>9200</td>\n",
              "      <td>0</td>\n",
              "      <td>98.0</td>\n",
              "      <td>180.0</td>\n",
              "      <td>1.0</td>\n",
              "      <td>Rural</td>\n",
              "    </tr>\n",
              "  </tbody>\n",
              "</table>\n",
              "<p>367 rows × 12 columns</p>\n",
              "</div>"
            ],
            "text/plain": [
              "      Loan_ID Gender Married Dependents     Education Self_Employed  \\\n",
              "0    LP001015   Male     Yes          0      Graduate            No   \n",
              "1    LP001022   Male     Yes          1      Graduate            No   \n",
              "2    LP001031   Male     Yes          2      Graduate            No   \n",
              "3    LP001035   Male     Yes          2      Graduate            No   \n",
              "4    LP001051   Male      No          0  Not Graduate            No   \n",
              "..        ...    ...     ...        ...           ...           ...   \n",
              "362  LP002971   Male     Yes         3+  Not Graduate           Yes   \n",
              "363  LP002975   Male     Yes          0      Graduate            No   \n",
              "364  LP002980   Male      No          0      Graduate            No   \n",
              "365  LP002986   Male     Yes          0      Graduate            No   \n",
              "366  LP002989   Male      No          0      Graduate           Yes   \n",
              "\n",
              "     ApplicantIncome  CoapplicantIncome  LoanAmount  Loan_Amount_Term  \\\n",
              "0               5720                  0       110.0             360.0   \n",
              "1               3076               1500       126.0             360.0   \n",
              "2               5000               1800       208.0             360.0   \n",
              "3               2340               2546       100.0             360.0   \n",
              "4               3276                  0        78.0             360.0   \n",
              "..               ...                ...         ...               ...   \n",
              "362             4009               1777       113.0             360.0   \n",
              "363             4158                709       115.0             360.0   \n",
              "364             3250               1993       126.0             360.0   \n",
              "365             5000               2393       158.0             360.0   \n",
              "366             9200                  0        98.0             180.0   \n",
              "\n",
              "     Credit_History Property_Area  \n",
              "0               1.0         Urban  \n",
              "1               1.0         Urban  \n",
              "2               1.0         Urban  \n",
              "3               NaN         Urban  \n",
              "4               1.0         Urban  \n",
              "..              ...           ...  \n",
              "362             1.0         Urban  \n",
              "363             1.0         Urban  \n",
              "364             NaN     Semiurban  \n",
              "365             1.0         Rural  \n",
              "366             1.0         Rural  \n",
              "\n",
              "[367 rows x 12 columns]"
            ]
          },
          "execution_count": 6,
          "metadata": {},
          "output_type": "execute_result"
        }
      ],
      "source": [
        "testing"
      ]
    },
    {
      "cell_type": "code",
      "execution_count": 7,
      "id": "1237ffe3",
      "metadata": {
        "id": "1237ffe3"
      },
      "outputs": [],
      "source": [
        "submission = pd.read_csv('https://raw.githubusercontent.com/mridulrb/Predict-loan-eligibility-using-IBM-Watson-Studio/master/Dataset/sample_submission_49d68Cx.csv')"
      ]
    },
    {
      "cell_type": "code",
      "execution_count": null,
      "id": "13f2205f",
      "metadata": {
        "id": "13f2205f",
        "outputId": "b7fdf98f-4731-4131-84d7-105cbfac6df0"
      },
      "outputs": [
        {
          "data": {
            "text/html": [
              "<div>\n",
              "<style scoped>\n",
              "    .dataframe tbody tr th:only-of-type {\n",
              "        vertical-align: middle;\n",
              "    }\n",
              "\n",
              "    .dataframe tbody tr th {\n",
              "        vertical-align: top;\n",
              "    }\n",
              "\n",
              "    .dataframe thead th {\n",
              "        text-align: right;\n",
              "    }\n",
              "</style>\n",
              "<table border=\"1\" class=\"dataframe\">\n",
              "  <thead>\n",
              "    <tr style=\"text-align: right;\">\n",
              "      <th></th>\n",
              "      <th>Loan_ID</th>\n",
              "      <th>Loan_Status</th>\n",
              "    </tr>\n",
              "  </thead>\n",
              "  <tbody>\n",
              "    <tr>\n",
              "      <th>0</th>\n",
              "      <td>LP001015</td>\n",
              "      <td>N</td>\n",
              "    </tr>\n",
              "    <tr>\n",
              "      <th>1</th>\n",
              "      <td>LP001022</td>\n",
              "      <td>N</td>\n",
              "    </tr>\n",
              "    <tr>\n",
              "      <th>2</th>\n",
              "      <td>LP001031</td>\n",
              "      <td>N</td>\n",
              "    </tr>\n",
              "    <tr>\n",
              "      <th>3</th>\n",
              "      <td>LP001035</td>\n",
              "      <td>N</td>\n",
              "    </tr>\n",
              "    <tr>\n",
              "      <th>4</th>\n",
              "      <td>LP001051</td>\n",
              "      <td>N</td>\n",
              "    </tr>\n",
              "    <tr>\n",
              "      <th>...</th>\n",
              "      <td>...</td>\n",
              "      <td>...</td>\n",
              "    </tr>\n",
              "    <tr>\n",
              "      <th>362</th>\n",
              "      <td>LP002971</td>\n",
              "      <td>N</td>\n",
              "    </tr>\n",
              "    <tr>\n",
              "      <th>363</th>\n",
              "      <td>LP002975</td>\n",
              "      <td>N</td>\n",
              "    </tr>\n",
              "    <tr>\n",
              "      <th>364</th>\n",
              "      <td>LP002980</td>\n",
              "      <td>N</td>\n",
              "    </tr>\n",
              "    <tr>\n",
              "      <th>365</th>\n",
              "      <td>LP002986</td>\n",
              "      <td>N</td>\n",
              "    </tr>\n",
              "    <tr>\n",
              "      <th>366</th>\n",
              "      <td>LP002989</td>\n",
              "      <td>N</td>\n",
              "    </tr>\n",
              "  </tbody>\n",
              "</table>\n",
              "<p>367 rows × 2 columns</p>\n",
              "</div>"
            ],
            "text/plain": [
              "      Loan_ID Loan_Status\n",
              "0    LP001015           N\n",
              "1    LP001022           N\n",
              "2    LP001031           N\n",
              "3    LP001035           N\n",
              "4    LP001051           N\n",
              "..        ...         ...\n",
              "362  LP002971           N\n",
              "363  LP002975           N\n",
              "364  LP002980           N\n",
              "365  LP002986           N\n",
              "366  LP002989           N\n",
              "\n",
              "[367 rows x 2 columns]"
            ]
          },
          "execution_count": 8,
          "metadata": {},
          "output_type": "execute_result"
        }
      ],
      "source": [
        "submission"
      ]
    },
    {
      "cell_type": "code",
      "execution_count": 8,
      "id": "fb8c7b0a",
      "metadata": {
        "id": "fb8c7b0a"
      },
      "outputs": [],
      "source": [
        "train_original=training.copy()\n",
        "test_original=testing.copy()"
      ]
    },
    {
      "cell_type": "markdown",
      "id": "5f388d8b",
      "metadata": {
        "id": "5f388d8b"
      },
      "source": [
        "## Understanding the Dataset"
      ]
    },
    {
      "cell_type": "code",
      "execution_count": 9,
      "id": "1fe8ceab",
      "metadata": {
        "colab": {
          "base_uri": "https://localhost:8080/",
          "height": 483
        },
        "id": "1fe8ceab",
        "outputId": "6d03a06b-49b0-499c-e005-8e2fb551f52f"
      },
      "outputs": [
        {
          "output_type": "display_data",
          "data": {
            "text/plain": [
              "<Figure size 640x480 with 1 Axes>"
            ],
            "image/png": "[encoded data removed]"
          },
          "metadata": {}
        },
        {
          "output_type": "stream",
          "name": "stdout",
          "text": [
            "From totaldata  68.73 % contains granted Loan\n",
            "From totaldata  31.27 % contains rejected Loan\n"
          ]
        }
      ],
      "source": [
        "training['Loan_Status'].value_counts(normalize = True).plot.bar(title = 'Loan_Status')\n",
        "plt.show()\n",
        "print('From totaldata ',np.round(training[training['Loan_Status'] == 'Y'].shape[0]/training.shape[0]*100,2), '% contains granted Loan')\n",
        "print('From totaldata ',np.round(training[training['Loan_Status'] == 'N'].shape[0]/training.shape[0]*100,2), '% contains rejected Loan')"
      ]
    },
    {
      "cell_type": "code",
      "execution_count": null,
      "id": "3be93f6d",
      "metadata": {
        "scrolled": true,
        "id": "3be93f6d",
        "outputId": "f7589296-66dc-4384-f54c-96f4ddf71213"
      },
      "outputs": [
        {
          "data": {
            "image/png": "[encoded data removed]",
            "text/plain": [
              "<Figure size 432x288 with 1 Axes>"
            ]
          },
          "metadata": {
            "needs_background": "light"
          },
          "output_type": "display_data"
        },
        {
          "name": "stdout",
          "output_type": "stream",
          "text": [
            "From totaldata 79.64 % contains Males\n",
            "From totaldata 18.24 % contains Females\n"
          ]
        }
      ],
      "source": [
        "training['Gender'].value_counts(normalize = True).plot.bar(title = 'Gender')\n",
        "plt.show()\n",
        "print('From totaldata',np.round(training[training['Gender'] == 'Male'].shape[0]/training.shape[0]*100,2), '% contains Males')\n",
        "print('From totaldata',np.round(training[training['Gender'] == 'Female'].shape[0]/training.shape[0]*100,2), '% contains Females')"
      ]
    },
    {
      "cell_type": "code",
      "execution_count": null,
      "id": "f18f5440",
      "metadata": {
        "id": "f18f5440",
        "outputId": "3645dc7b-dd4c-4799-bd78-898b8b350643"
      },
      "outputs": [
        {
          "data": {
            "image/png": "[encoded data removed]",
            "text/plain": [
              "<Figure size 432x288 with 1 Axes>"
            ]
          },
          "metadata": {
            "needs_background": "light"
          },
          "output_type": "display_data"
        },
        {
          "name": "stdout",
          "output_type": "stream",
          "text": [
            "From totaldata 64.82 % contains people who are married\n",
            "From totaldata 34.69 % contains people who are not married\n"
          ]
        }
      ],
      "source": [
        "training['Married'].value_counts(normalize = True).plot.bar(title = 'Married')\n",
        "plt.show()\n",
        "print('From totaldata',np.round(training[training['Married'] == 'Yes'].shape[0]/training.shape[0]*100,2), '% contains people who are married')\n",
        "print('From totaldata',np.round(training[training['Married'] == 'No'].shape[0]/training.shape[0]*100,2), '% contains people who are not married')"
      ]
    },
    {
      "cell_type": "code",
      "execution_count": null,
      "id": "cd714ad4",
      "metadata": {
        "id": "cd714ad4",
        "outputId": "815dbbb2-0e8f-47f2-e7ca-f9d93674c182"
      },
      "outputs": [
        {
          "data": {
            "image/png": "[encoded data removed]",
            "text/plain": [
              "<Figure size 432x288 with 1 Axes>"
            ]
          },
          "metadata": {
            "needs_background": "light"
          },
          "output_type": "display_data"
        },
        {
          "name": "stdout",
          "output_type": "stream",
          "text": [
            "From totaldata 13.36 % contains Self-employed people\n",
            "From totaldata 81.43 % contains people who are not Self-employed\n"
          ]
        }
      ],
      "source": [
        "training['Self_Employed'].value_counts(normalize = True).plot.bar(title = 'Self_Employed')\n",
        "plt.show()\n",
        "print('From totaldata',np.round(training[training['Self_Employed'] == 'Yes'].shape[0]/training.shape[0]*100,2), '% contains Self-employed people')\n",
        "print('From totaldata',np.round(training[training['Self_Employed'] == 'No'].shape[0]/training.shape[0]*100,2), '% contains people who are not Self-employed')"
      ]
    },
    {
      "cell_type": "code",
      "execution_count": null,
      "id": "ad9f8d15",
      "metadata": {
        "id": "ad9f8d15",
        "outputId": "15ffa434-da79-4bf6-970e-55079586a98d"
      },
      "outputs": [
        {
          "data": {
            "image/png": "[encoded data removed]",
            "text/plain": [
              "<Figure size 432x288 with 1 Axes>"
            ]
          },
          "metadata": {
            "needs_background": "light"
          },
          "output_type": "display_data"
        },
        {
          "name": "stdout",
          "output_type": "stream",
          "text": [
            "From totaldata 0.0 % contains people with credit history 1.0\n",
            "From totaldata 0.0 % contains people with credit history 0.0\n"
          ]
        }
      ],
      "source": [
        "training['Credit_History'].value_counts(normalize = True).plot.bar(title = 'Credit_History')\n",
        "plt.show()\n",
        "print('From totaldata',np.round(training[training['Credit_History'] == '1.0'].shape[0]/training.shape[0]*100,2), '% contains people with credit history 1.0')\n",
        "print('From totaldata',np.round(training[training['Credit_History'] == '0.0'].shape[0]/training.shape[0]*100,2), '% contains people with credit history 0.0')"
      ]
    },
    {
      "cell_type": "code",
      "execution_count": null,
      "id": "462f2bc0",
      "metadata": {
        "id": "462f2bc0",
        "outputId": "7a861481-7279-4c7a-fcf7-710e5d99130c"
      },
      "outputs": [
        {
          "data": {
            "image/png": "[encoded data removed]",
            "text/plain": [
              "<Figure size 432x288 with 1 Axes>"
            ]
          },
          "metadata": {
            "needs_background": "light"
          },
          "output_type": "display_data"
        },
        {
          "name": "stdout",
          "output_type": "stream",
          "text": [
            "From totaldata 56.19 % contains people with 0 dependency\n",
            "From totaldata 16.61 % contains people with 1 dependency\n",
            "From totaldata 16.45 % contains people with 2 dependency\n",
            "From totaldata 8.31 % contains people with 3+ dependency\n"
          ]
        }
      ],
      "source": [
        "training['Dependents'].value_counts(normalize = True).plot.bar(title = 'Dependents')\n",
        "plt.show()\n",
        "print('From totaldata',np.round(training[training['Dependents'] == '0'].shape[0]/training.shape[0]*100,2), '% contains people with 0 dependency')\n",
        "print('From totaldata',np.round(training[training['Dependents'] == '1'].shape[0]/training.shape[0]*100,2), '% contains people with 1 dependency')\n",
        "print('From totaldata',np.round(training[training['Dependents'] == '2'].shape[0]/training.shape[0]*100,2), '% contains people with 2 dependency')\n",
        "print('From totaldata',np.round(training[training['Dependents'] == '3+'].shape[0]/training.shape[0]*100,2), '% contains people with 3+ dependency')"
      ]
    },
    {
      "cell_type": "code",
      "execution_count": null,
      "id": "b7dfad8b",
      "metadata": {
        "id": "b7dfad8b",
        "outputId": "88e82720-6c6e-42a7-ca8d-ef594f0a76b9"
      },
      "outputs": [
        {
          "data": {
            "image/png": "[encoded data removed]",
            "text/plain": [
              "<Figure size 432x288 with 1 Axes>"
            ]
          },
          "metadata": {
            "needs_background": "light"
          },
          "output_type": "display_data"
        },
        {
          "name": "stdout",
          "output_type": "stream",
          "text": [
            "From totaldata 78.18 % contains people who are graduated\n",
            "From totaldata 21.82 % contains people who are not graduated\n"
          ]
        }
      ],
      "source": [
        "training['Education'].value_counts(normalize = True).plot.bar(title = 'Education')\n",
        "plt.show()\n",
        "print('From totaldata',np.round(training[training['Education'] == 'Graduate'].shape[0]/training.shape[0]*100,2), '% contains people who are graduated')\n",
        "print('From totaldata',np.round(training[training['Education'] == 'Not Graduate'].shape[0]/training.shape[0]*100,2), '% contains people who are not graduated')"
      ]
    },
    {
      "cell_type": "code",
      "execution_count": null,
      "id": "f0b21cc5",
      "metadata": {
        "id": "f0b21cc5",
        "outputId": "d3974944-63eb-4f55-9ca7-acee70ca077c"
      },
      "outputs": [
        {
          "data": {
            "image/png": "[encoded data removed]",
            "text/plain": [
              "<Figure size 432x288 with 1 Axes>"
            ]
          },
          "metadata": {
            "needs_background": "light"
          },
          "output_type": "display_data"
        },
        {
          "name": "stdout",
          "output_type": "stream",
          "text": [
            "From totaldata 37.95 % contains people who reside in Semiurban areas\n",
            "From totaldata 32.9 % contains people who reside in Urban areas\n",
            "From totaldata 29.15 % contains people who reside in Rural areas\n"
          ]
        }
      ],
      "source": [
        "training['Property_Area'].value_counts(normalize = True).plot.bar(title = 'Property_Area')\n",
        "plt.show()\n",
        "print('From totaldata',np.round(training[training['Property_Area'] == 'Semiurban'].shape[0]/training.shape[0]*100,2), '% contains people who reside in Semiurban areas')\n",
        "print('From totaldata',np.round(training[training['Property_Area'] == 'Urban'].shape[0]/training.shape[0]*100,2), '% contains people who reside in Urban areas')\n",
        "print('From totaldata',np.round(training[training['Property_Area'] == 'Rural'].shape[0]/training.shape[0]*100,2), '% contains people who reside in Rural areas')"
      ]
    },
    {
      "cell_type": "code",
      "execution_count": null,
      "id": "939099d5",
      "metadata": {
        "id": "939099d5",
        "outputId": "a318645d-99d7-4a31-b6a4-79b0fba159ad"
      },
      "outputs": [
        {
          "data": {
            "image/png": "[encoded data removed]",
            "text/plain": [
              "<Figure size 432x288 with 1 Axes>"
            ]
          },
          "metadata": {
            "needs_background": "light"
          },
          "output_type": "display_data"
        },
        {
          "data": {
            "image/png": "[encoded data removed]",
            "text/plain": [
              "<Figure size 432x288 with 1 Axes>"
            ]
          },
          "metadata": {
            "needs_background": "light"
          },
          "output_type": "display_data"
        }
      ],
      "source": [
        "sns.distplot(training['ApplicantIncome'])\n",
        "plt.show()\n",
        "training['ApplicantIncome'].plot.box()\n",
        "plt.show()"
      ]
    },
    {
      "cell_type": "code",
      "execution_count": null,
      "id": "62195597",
      "metadata": {
        "id": "62195597",
        "outputId": "63d840b7-cd55-447d-a783-18c5dc82e238"
      },
      "outputs": [
        {
          "data": {
            "text/plain": [
              "Text(0.5, 0.98, '')"
            ]
          },
          "execution_count": 19,
          "metadata": {},
          "output_type": "execute_result"
        },
        {
          "data": {
            "image/png": "[encoded data removed]",
            "text/plain": [
              "<Figure size 432x288 with 1 Axes>"
            ]
          },
          "metadata": {
            "needs_background": "light"
          },
          "output_type": "display_data"
        }
      ],
      "source": [
        "training.boxplot(column = 'ApplicantIncome', by = 'Education')\n",
        "plt.suptitle('')"
      ]
    },
    {
      "cell_type": "code",
      "execution_count": null,
      "id": "d5cef609",
      "metadata": {
        "id": "d5cef609",
        "outputId": "5d9c2ab4-45bc-495c-f712-d4874b9ee258"
      },
      "outputs": [
        {
          "data": {
            "image/png": "[encoded data removed]",
            "text/plain": [
              "<Figure size 432x288 with 1 Axes>"
            ]
          },
          "metadata": {
            "needs_background": "light"
          },
          "output_type": "display_data"
        },
        {
          "data": {
            "image/png": "[encoded data removed]",
            "text/plain": [
              "<Figure size 432x288 with 1 Axes>"
            ]
          },
          "metadata": {
            "needs_background": "light"
          },
          "output_type": "display_data"
        }
      ],
      "source": [
        "sns.distplot(training['CoapplicantIncome'])\n",
        "plt.show()\n",
        "training['CoapplicantIncome'].plot.box()\n",
        "plt.show()"
      ]
    },
    {
      "cell_type": "markdown",
      "id": "db91f4d9",
      "metadata": {
        "id": "db91f4d9"
      },
      "source": [
        "## Exploratory Data Analysis"
      ]
    },
    {
      "cell_type": "code",
      "execution_count": null,
      "id": "b03308f2",
      "metadata": {
        "id": "b03308f2",
        "outputId": "8775417d-d0da-413c-e955-8b1a841c3446"
      },
      "outputs": [
        {
          "data": {
            "image/png": "[encoded data removed]",
            "text/plain": [
              "<Figure size 432x288 with 1 Axes>"
            ]
          },
          "metadata": {
            "needs_background": "light"
          },
          "output_type": "display_data"
        }
      ],
      "source": [
        "Gen = pd.crosstab(training['Gender'],training['Loan_Status'])\n",
        "Gen.div(Gen.sum(1).astype(float),axis = 0).plot(kind = \"bar\",stacked = True)\n",
        "plt.show()"
      ]
    },
    {
      "cell_type": "code",
      "execution_count": null,
      "id": "d5e9896a",
      "metadata": {
        "id": "d5e9896a",
        "outputId": "ec8b944d-a5b7-4705-cca2-794c04981c5b"
      },
      "outputs": [
        {
          "data": {
            "image/png": "[encoded data removed]",
            "text/plain": [
              "<Figure size 432x288 with 1 Axes>"
            ]
          },
          "metadata": {
            "needs_background": "light"
          },
          "output_type": "display_data"
        }
      ],
      "source": [
        "Marriage_status = pd.crosstab(training['Married'],training['Loan_Status'])\n",
        "Marriage_status.div(Marriage_status.sum(1).astype(float),axis = 0).plot(kind = \"bar\", stacked = True)\n",
        "plt.show()"
      ]
    },
    {
      "cell_type": "code",
      "execution_count": null,
      "id": "aa645929",
      "metadata": {
        "id": "aa645929",
        "outputId": "de1300cf-42e0-43a5-d7f7-b0317de70f4a"
      },
      "outputs": [
        {
          "data": {
            "image/png": "[encoded data removed]",
            "text/plain": [
              "<Figure size 432x288 with 1 Axes>"
            ]
          },
          "metadata": {
            "needs_background": "light"
          },
          "output_type": "display_data"
        }
      ],
      "source": [
        "Dependent = pd.crosstab(training['Dependents'],training['Loan_Status'])\n",
        "Dependent.div(Dependent.sum(1).astype(float),axis = 0).plot(kind = \"bar\",stacked = True)\n",
        "plt.show()"
      ]
    },
    {
      "cell_type": "code",
      "execution_count": null,
      "id": "74e89c60",
      "metadata": {
        "id": "74e89c60",
        "outputId": "18ebce9a-37df-4da4-f50f-50a30a3e05a5"
      },
      "outputs": [
        {
          "data": {
            "image/png": "[encoded data removed]",
            "text/plain": [
              "<Figure size 432x288 with 1 Axes>"
            ]
          },
          "metadata": {
            "needs_background": "light"
          },
          "output_type": "display_data"
        }
      ],
      "source": [
        "Edu = pd.crosstab(training['Education'],training['Loan_Status'])\n",
        "Edu.div(Edu.sum(1).astype(float),axis = 0).plot(kind = \"bar\",stacked = True)\n",
        "plt.show()"
      ]
    },
    {
      "cell_type": "code",
      "execution_count": null,
      "id": "741cdf17",
      "metadata": {
        "id": "741cdf17",
        "outputId": "4c43dced-1598-4d55-c850-3666de3a4da6"
      },
      "outputs": [
        {
          "data": {
            "image/png": "[encoded data removed]",
            "text/plain": [
              "<Figure size 432x288 with 1 Axes>"
            ]
          },
          "metadata": {
            "needs_background": "light"
          },
          "output_type": "display_data"
        }
      ],
      "source": [
        "Self_Emp = pd.crosstab(training['Self_Employed'],training['Loan_Status'])\n",
        "Self_Emp.div(Self_Emp.sum(1).astype(float),axis = 0).plot(kind = \"bar\",stacked = True)\n",
        "plt.show()"
      ]
    },
    {
      "cell_type": "code",
      "execution_count": null,
      "id": "90c575be",
      "metadata": {
        "id": "90c575be",
        "outputId": "fd259607-4cf9-40d6-c055-2d4bd3e28744"
      },
      "outputs": [
        {
          "data": {
            "image/png": "[encoded data removed]",
            "text/plain": [
              "<Figure size 432x288 with 1 Axes>"
            ]
          },
          "metadata": {
            "needs_background": "light"
          },
          "output_type": "display_data"
        }
      ],
      "source": [
        "Cred_Hist = pd.crosstab(training['Credit_History'],training['Loan_Status'])\n",
        "Cred_Hist.div(Cred_Hist.sum(1).astype(float),axis = 0).plot(kind = \"bar\",stacked = True)\n",
        "plt.show()"
      ]
    },
    {
      "cell_type": "code",
      "execution_count": null,
      "id": "4f3ae361",
      "metadata": {
        "id": "4f3ae361",
        "outputId": "9996cd21-3f04-4637-8fc2-a05f3bb85cb4"
      },
      "outputs": [
        {
          "data": {
            "image/png": "[encoded data removed]",
            "text/plain": [
              "<Figure size 432x288 with 1 Axes>"
            ]
          },
          "metadata": {
            "needs_background": "light"
          },
          "output_type": "display_data"
        }
      ],
      "source": [
        "Prop_Area = pd.crosstab(training['Property_Area'],training['Loan_Status'])\n",
        "Prop_Area.div(Prop_Area.sum(1).astype(float),axis = 0).plot(kind = \"bar\",stacked = True)\n",
        "plt.show()"
      ]
    },
    {
      "cell_type": "code",
      "execution_count": null,
      "id": "f0c260df",
      "metadata": {
        "id": "f0c260df",
        "outputId": "e12791a1-0a2a-412e-cd50-a6acf5f3c012"
      },
      "outputs": [
        {
          "data": {
            "text/plain": [
              "<AxesSubplot:xlabel='Loan_Status'>"
            ]
          },
          "execution_count": 28,
          "metadata": {},
          "output_type": "execute_result"
        },
        {
          "data": {
            "image/png": "[encoded data removed]",
            "text/plain": [
              "<Figure size 432x288 with 1 Axes>"
            ]
          },
          "metadata": {
            "needs_background": "light"
          },
          "output_type": "display_data"
        }
      ],
      "source": [
        "training.groupby('Loan_Status')['ApplicantIncome'].mean().plot.bar()"
      ]
    },
    {
      "cell_type": "code",
      "execution_count": null,
      "id": "29707076",
      "metadata": {
        "id": "29707076",
        "outputId": "c20db539-de55-4930-b4a2-623a54f73bf3"
      },
      "outputs": [
        {
          "data": {
            "text/plain": [
              "Text(0, 0.5, 'Percentage')"
            ]
          },
          "execution_count": 29,
          "metadata": {},
          "output_type": "execute_result"
        },
        {
          "data": {
            "image/png": "[encoded data removed]",
            "text/plain": [
              "<Figure size 432x288 with 1 Axes>"
            ]
          },
          "metadata": {
            "needs_background": "light"
          },
          "output_type": "display_data"
        }
      ],
      "source": [
        "bins = [0, 2500, 4000, 6000, 81000]\n",
        "group = ['Low', 'Average', 'High', 'Very High']\n",
        "training['Income_bins'] = pd.cut(training['ApplicantIncome'], bins, labels = group)\n",
        "Income_bins = pd.crosstab(training['Income_bins'],training['Loan_Status'])\n",
        "Income_bins.div(Income_bins.sum(1).astype(float), axis = 0).plot(kind = 'bar', stacked = True)\n",
        "plt.xlabel('Applicant Income')\n",
        "plt.ylabel('Percentage')"
      ]
    },
    {
      "cell_type": "code",
      "execution_count": null,
      "id": "1f54e0c4",
      "metadata": {
        "id": "1f54e0c4",
        "outputId": "89b3824c-e9e3-4938-cab8-c8f554cd4bbd"
      },
      "outputs": [
        {
          "data": {
            "text/plain": [
              "Text(0, 0.5, 'Percentage')"
            ]
          },
          "execution_count": 30,
          "metadata": {},
          "output_type": "execute_result"
        },
        {
          "data": {
            "image/png": "[encoded data removed]",
            "text/plain": [
              "<Figure size 432x288 with 1 Axes>"
            ]
          },
          "metadata": {
            "needs_background": "light"
          },
          "output_type": "display_data"
        }
      ],
      "source": [
        "bins = [0, 1000,3000, 42000]\n",
        "group = ['Low', 'Average', 'High']\n",
        "training['Coapplicant_Income_bins'] = pd.cut(training['CoapplicantIncome'], bins, labels = group)\n",
        "Coapplicant_Income_bins = pd.crosstab(training['Coapplicant_Income_bins'],training['Loan_Status'])\n",
        "Coapplicant_Income_bins.div(Coapplicant_Income_bins.sum(1).astype(float), axis = 0).plot(kind = 'bar', stacked = True)\n",
        "plt.xlabel('Coapplicant Income')\n",
        "plt.ylabel('Percentage')"
      ]
    },
    {
      "cell_type": "code",
      "execution_count": null,
      "id": "7f508b01",
      "metadata": {
        "id": "7f508b01",
        "outputId": "14df12d6-e420-42f5-e908-73eb8d3864e7"
      },
      "outputs": [
        {
          "data": {
            "text/plain": [
              "Text(0, 0.5, 'Percentage')"
            ]
          },
          "execution_count": 31,
          "metadata": {},
          "output_type": "execute_result"
        },
        {
          "data": {
            "image/png": "[encoded data removed]",
            "text/plain": [
              "<Figure size 432x288 with 1 Axes>"
            ]
          },
          "metadata": {
            "needs_background": "light"
          },
          "output_type": "display_data"
        }
      ],
      "source": [
        "training['Total_Income'] = training['ApplicantIncome'] + training['CoapplicantIncome']\n",
        "bins = [0, 2500, 4000, 6000, 81000]\n",
        "group = ['Low', 'Average', 'High', 'Very High']\n",
        "training['Total_Income_bins'] = pd.cut(training['Total_Income'], bins, labels = group)\n",
        "Total_Income_bins = pd.crosstab(training['Total_Income_bins'],training['Loan_Status'])\n",
        "Total_Income_bins.div(Total_Income_bins.sum(1).astype(float),axis = 0).plot(kind = \"bar\", stacked = True)\n",
        "plt.xlabel('Total Income')\n",
        "plt.ylabel('Percentage')\n"
      ]
    },
    {
      "cell_type": "code",
      "execution_count": null,
      "id": "a5fc25c2",
      "metadata": {
        "id": "a5fc25c2",
        "outputId": "11b51ec0-d557-49e5-8afa-1b0fbc49eae0"
      },
      "outputs": [
        {
          "data": {
            "text/plain": [
              "Text(0, 0.5, 'Percentage')"
            ]
          },
          "execution_count": 32,
          "metadata": {},
          "output_type": "execute_result"
        },
        {
          "data": {
            "image/png": "[encoded data removed]",
            "text/plain": [
              "<Figure size 432x288 with 1 Axes>"
            ]
          },
          "metadata": {
            "needs_background": "light"
          },
          "output_type": "display_data"
        }
      ],
      "source": [
        "bins = [0, 100, 200, 700]\n",
        "group = ['Low', 'Average', 'High']\n",
        "training['LoanAmount_bins'] = pd.cut(training['LoanAmount'], bins, labels = group)\n",
        "LoanAmount_bins = pd.crosstab(training['LoanAmount_bins'],training['Loan_Status'])\n",
        "LoanAmount_bins.div(LoanAmount_bins.sum(1).astype(float),axis = 0).plot(kind = \"bar\", stacked = True)\n",
        "plt.xlabel('LoanAmount')\n",
        "plt.ylabel('Percentage')"
      ]
    },
    {
      "cell_type": "code",
      "execution_count": null,
      "id": "03b652d0",
      "metadata": {
        "id": "03b652d0"
      },
      "outputs": [],
      "source": [
        "training= training.drop(['Income_bins', 'Total_Income_bins', 'LoanAmount_bins', 'Coapplicant_Income_bins','Total_Income'], axis = 1)"
      ]
    },
    {
      "cell_type": "code",
      "execution_count": null,
      "id": "34afdb74",
      "metadata": {
        "id": "34afdb74"
      },
      "outputs": [],
      "source": [
        "training['Dependents'].replace('3+', 3, inplace = True)\n",
        "testing['Dependents'].replace('3+', 3, inplace = True)\n",
        "training['Loan_Status'].replace('N', 0, inplace = True)\n",
        "training['Loan_Status'].replace('Y', 1, inplace = True)"
      ]
    },
    {
      "cell_type": "code",
      "execution_count": null,
      "id": "82668e95",
      "metadata": {
        "id": "82668e95",
        "outputId": "d5406edf-a021-44e7-95ba-2c7313490e29"
      },
      "outputs": [
        {
          "data": {
            "text/plain": [
              "<AxesSubplot:>"
            ]
          },
          "execution_count": 35,
          "metadata": {},
          "output_type": "execute_result"
        },
        {
          "data": {
            "image/png": "[encoded data removed]",
            "text/plain": [
              "<Figure size 648x432 with 2 Axes>"
            ]
          },
          "metadata": {
            "needs_background": "light"
          },
          "output_type": "display_data"
        }
      ],
      "source": [
        "matrix = training.corr()\n",
        "f, ax = plt.subplots(figsize=(9,6))\n",
        "sns.heatmap(matrix,vmax=1,square=True,cmap='RdBu', annot = True)"
      ]
    },
    {
      "cell_type": "markdown",
      "id": "e4aa6a64",
      "metadata": {
        "id": "e4aa6a64"
      },
      "source": [
        "## Replacing missing data"
      ]
    },
    {
      "cell_type": "code",
      "execution_count": null,
      "id": "707f3bf6",
      "metadata": {
        "id": "707f3bf6",
        "outputId": "e4fc2a2c-726d-457a-dd3e-b7896a367657"
      },
      "outputs": [
        {
          "data": {
            "text/plain": [
              "Loan_ID               0\n",
              "Gender               13\n",
              "Married               3\n",
              "Dependents           15\n",
              "Education             0\n",
              "Self_Employed        32\n",
              "ApplicantIncome       0\n",
              "CoapplicantIncome     0\n",
              "LoanAmount           22\n",
              "Loan_Amount_Term     14\n",
              "Credit_History       50\n",
              "Property_Area         0\n",
              "Loan_Status           0\n",
              "dtype: int64"
            ]
          },
          "execution_count": 36,
          "metadata": {},
          "output_type": "execute_result"
        }
      ],
      "source": [
        "training.isnull().sum()"
      ]
    },
    {
      "cell_type": "code",
      "execution_count": null,
      "id": "4bdc65de",
      "metadata": {
        "id": "4bdc65de"
      },
      "outputs": [],
      "source": [
        "training['Gender'].fillna(training['Gender'].mode()[0], inplace = True)\n",
        "training['Married'].fillna(training['Married'].mode()[0], inplace = True)\n",
        "training['Dependents'].fillna(training['Dependents'].mode()[0], inplace = True)\n",
        "training['Self_Employed'].fillna(training['Self_Employed'].mode()[0], inplace = True)\n",
        "training['Credit_History'].fillna(training['Credit_History'].mode()[0], inplace = True)\n",
        "training['Loan_Amount_Term'].fillna(training['Loan_Amount_Term'].mode()[0], inplace = True)\n",
        "training['LoanAmount'].fillna(training['LoanAmount'].median(), inplace = True)"
      ]
    },
    {
      "cell_type": "code",
      "execution_count": null,
      "id": "4e3a840b",
      "metadata": {
        "id": "4e3a840b",
        "outputId": "bca04788-2b04-4050-8f00-b893aa6e2ea8"
      },
      "outputs": [
        {
          "data": {
            "text/plain": [
              "Loan_ID              0\n",
              "Gender               0\n",
              "Married              0\n",
              "Dependents           0\n",
              "Education            0\n",
              "Self_Employed        0\n",
              "ApplicantIncome      0\n",
              "CoapplicantIncome    0\n",
              "LoanAmount           0\n",
              "Loan_Amount_Term     0\n",
              "Credit_History       0\n",
              "Property_Area        0\n",
              "Loan_Status          0\n",
              "dtype: int64"
            ]
          },
          "execution_count": 38,
          "metadata": {},
          "output_type": "execute_result"
        }
      ],
      "source": [
        "training.isnull().sum()"
      ]
    },
    {
      "cell_type": "code",
      "execution_count": null,
      "id": "c8bfee49",
      "metadata": {
        "id": "c8bfee49"
      },
      "outputs": [],
      "source": [
        "testing['Gender'].fillna(training['Gender'].mode()[0], inplace = True)\n",
        "testing['Married'].fillna(training['Married'].mode()[0], inplace = True)\n",
        "testing['Dependents'].fillna(training['Dependents'].mode()[0], inplace = True)\n",
        "testing['Self_Employed'].fillna(training['Self_Employed'].mode()[0], inplace = True)\n",
        "testing['Credit_History'].fillna(training['Credit_History'].mode()[0], inplace = True)\n",
        "testing['Loan_Amount_Term'].fillna(training['Loan_Amount_Term'].mode()[0], inplace = True)\n",
        "testing['LoanAmount'].fillna(training['LoanAmount'].median(), inplace = True)"
      ]
    },
    {
      "cell_type": "code",
      "execution_count": null,
      "id": "27b58277",
      "metadata": {
        "id": "27b58277",
        "outputId": "9724876a-9aa8-4a90-aa6a-e61eb6831fff"
      },
      "outputs": [
        {
          "data": {
            "text/plain": [
              "Loan_ID              0\n",
              "Gender               0\n",
              "Married              0\n",
              "Dependents           0\n",
              "Education            0\n",
              "Self_Employed        0\n",
              "ApplicantIncome      0\n",
              "CoapplicantIncome    0\n",
              "LoanAmount           0\n",
              "Loan_Amount_Term     0\n",
              "Credit_History       0\n",
              "Property_Area        0\n",
              "dtype: int64"
            ]
          },
          "execution_count": 40,
          "metadata": {},
          "output_type": "execute_result"
        }
      ],
      "source": [
        "testing.isnull().sum()"
      ]
    },
    {
      "cell_type": "markdown",
      "id": "50ec7874",
      "metadata": {
        "id": "50ec7874"
      },
      "source": [
        "## Outlier Treatment"
      ]
    },
    {
      "cell_type": "code",
      "execution_count": null,
      "id": "6b824993",
      "metadata": {
        "id": "6b824993",
        "outputId": "26182c91-1cc7-4e09-84e8-9d59b850645d"
      },
      "outputs": [
        {
          "data": {
            "image/png": "[encoded data removed]",
            "text/plain": [
              "<Figure size 432x288 with 1 Axes>"
            ]
          },
          "metadata": {
            "needs_background": "light"
          },
          "output_type": "display_data"
        }
      ],
      "source": [
        "training['LoanAmount_log']=np.log(training['LoanAmount'])\n",
        "training['LoanAmount_log'].hist(bins=20)\n",
        "testing['LoanAmount_log']=np.log(testing['LoanAmount'])"
      ]
    },
    {
      "cell_type": "markdown",
      "id": "06aca639",
      "metadata": {
        "id": "06aca639"
      },
      "source": [
        "## Logistic Regression"
      ]
    },
    {
      "cell_type": "code",
      "execution_count": null,
      "id": "da14bd73",
      "metadata": {
        "id": "da14bd73"
      },
      "outputs": [],
      "source": [
        "training = training.drop('Loan_ID',axis=1)\n",
        "testing = testing.drop('Loan_ID',axis=1)"
      ]
    },
    {
      "cell_type": "code",
      "execution_count": null,
      "id": "57da51ee",
      "metadata": {
        "id": "57da51ee"
      },
      "outputs": [],
      "source": [
        "X = training.drop('Loan_Status',1)\n",
        "y = training.Loan_Status"
      ]
    },
    {
      "cell_type": "code",
      "execution_count": null,
      "id": "a4d3e039",
      "metadata": {
        "id": "a4d3e039"
      },
      "outputs": [],
      "source": [
        "X = pd.get_dummies(X)\n",
        "training = pd.get_dummies(training)\n",
        "testing = pd.get_dummies(testing)"
      ]
    },
    {
      "cell_type": "code",
      "execution_count": null,
      "id": "fafb1637",
      "metadata": {
        "id": "fafb1637"
      },
      "outputs": [],
      "source": [
        "from sklearn.model_selection import train_test_split\n",
        "x_training, x_cv, y_training, y_cv = train_test_split(X,y, test_size=0.3)"
      ]
    },
    {
      "cell_type": "code",
      "execution_count": null,
      "id": "cd7649f4",
      "metadata": {
        "id": "cd7649f4",
        "outputId": "5a452cd9-f956-46df-a085-a8cb06226e5c"
      },
      "outputs": [
        {
          "data": {
            "text/plain": [
              "LogisticRegression()"
            ]
          },
          "execution_count": 46,
          "metadata": {},
          "output_type": "execute_result"
        }
      ],
      "source": [
        "from sklearn.linear_model import LogisticRegression\n",
        "from sklearn.metrics import accuracy_score\n",
        "model = LogisticRegression()\n",
        "model.fit(x_training, y_training)"
      ]
    },
    {
      "cell_type": "code",
      "execution_count": null,
      "id": "1cdc68a4",
      "metadata": {
        "id": "1cdc68a4",
        "outputId": "9f7e5f88-5362-4356-ffd8-02deb1517a9e"
      },
      "outputs": [
        {
          "data": {
            "text/plain": [
              "0.8"
            ]
          },
          "execution_count": 47,
          "metadata": {},
          "output_type": "execute_result"
        }
      ],
      "source": [
        "pred_cv = model.predict(x_cv)\n",
        "accuracy_score(y_cv,pred_cv)"
      ]
    },
    {
      "cell_type": "code",
      "execution_count": null,
      "id": "2c00d678",
      "metadata": {
        "id": "2c00d678"
      },
      "outputs": [],
      "source": [
        "pred_test = model.predict(testing)"
      ]
    },
    {
      "cell_type": "code",
      "execution_count": null,
      "id": "fd7461bc",
      "metadata": {
        "id": "fd7461bc"
      },
      "outputs": [],
      "source": [
        "submission['Loan_Status']=pred_test\n",
        "submission['Loan_ID']=test_original['Loan_ID']"
      ]
    },
    {
      "cell_type": "code",
      "execution_count": null,
      "id": "b155813f",
      "metadata": {
        "id": "b155813f"
      },
      "outputs": [],
      "source": [
        "submission['Loan_Status'].replace(0, 'N', inplace = True)\n",
        "submission['Loan_Status'].replace(1, 'Y', inplace = True)"
      ]
    },
    {
      "cell_type": "code",
      "execution_count": null,
      "id": "252699d8",
      "metadata": {
        "id": "252699d8"
      },
      "outputs": [],
      "source": [
        "pd.DataFrame(submission, columns=['Loan_ID','Loan_Status']).to_csv('C:\\\\Users\\\\Piyush\\\\Desktop\\\\DataMining\\\\logistic.csv')"
      ]
    },
    {
      "cell_type": "markdown",
      "id": "08ae3138",
      "metadata": {
        "id": "08ae3138"
      },
      "source": [
        "## Feature Engineering"
      ]
    },
    {
      "cell_type": "code",
      "execution_count": null,
      "id": "3943719e",
      "metadata": {
        "id": "3943719e",
        "outputId": "9dbc1da7-36bb-4a3d-bc8e-b8d1fb957600"
      },
      "outputs": [
        {
          "data": {
            "text/plain": [
              "<AxesSubplot:xlabel='Total_Income', ylabel='Density'>"
            ]
          },
          "execution_count": 57,
          "metadata": {},
          "output_type": "execute_result"
        },
        {
          "data": {
            "image/png": "[encoded data removed]",
            "text/plain": [
              "<Figure size 432x288 with 1 Axes>"
            ]
          },
          "metadata": {
            "needs_background": "light"
          },
          "output_type": "display_data"
        }
      ],
      "source": [
        "training['Total_Income']=training['ApplicantIncome']+training['CoapplicantIncome']\n",
        "testing['Total_Income']=testing['ApplicantIncome']+testing['CoapplicantIncome']\n",
        "sns.distplot(training['Total_Income'])"
      ]
    },
    {
      "cell_type": "code",
      "execution_count": null,
      "id": "fb0a6fc6",
      "metadata": {
        "id": "fb0a6fc6",
        "outputId": "de2ab5b9-f2de-4cb6-db23-d2ae17951ae2"
      },
      "outputs": [
        {
          "data": {
            "image/png": "[encoded data removed]",
            "text/plain": [
              "<Figure size 432x288 with 1 Axes>"
            ]
          },
          "metadata": {
            "needs_background": "light"
          },
          "output_type": "display_data"
        }
      ],
      "source": [
        "training['Total_Income_log'] = np.log(training['Total_Income'])\n",
        "sns.distplot(training['Total_Income_log'])\n",
        "testing['Total_Income_log'] = np.log(testing['Total_Income'])"
      ]
    },
    {
      "cell_type": "code",
      "execution_count": null,
      "id": "24665096",
      "metadata": {
        "id": "24665096",
        "outputId": "705fd9f6-66dd-44ee-aab4-361ef299dc49"
      },
      "outputs": [
        {
          "data": {
            "text/plain": [
              "<AxesSubplot:xlabel='EMI', ylabel='Density'>"
            ]
          },
          "execution_count": 59,
          "metadata": {},
          "output_type": "execute_result"
        },
        {
          "data": {
            "image/png": "[encoded data removed]",
            "text/plain": [
              "<Figure size 432x288 with 1 Axes>"
            ]
          },
          "metadata": {
            "needs_background": "light"
          },
          "output_type": "display_data"
        }
      ],
      "source": [
        "training['EMI']=training['LoanAmount']/training['Loan_Amount_Term']\n",
        "testing['EMI']=testing['LoanAmount']/testing['Loan_Amount_Term']\n",
        "sns.distplot(training['EMI'])"
      ]
    },
    {
      "cell_type": "code",
      "execution_count": null,
      "id": "0999e6b2",
      "metadata": {
        "id": "0999e6b2",
        "outputId": "811bbf6c-873c-4f65-d7dd-d6175524a36d"
      },
      "outputs": [
        {
          "data": {
            "text/plain": [
              "<AxesSubplot:xlabel='Balance Income', ylabel='Density'>"
            ]
          },
          "execution_count": 60,
          "metadata": {},
          "output_type": "execute_result"
        },
        {
          "data": {
            "image/png": "[encoded data removed]",
            "text/plain": [
              "<Figure size 432x288 with 1 Axes>"
            ]
          },
          "metadata": {
            "needs_background": "light"
          },
          "output_type": "display_data"
        }
      ],
      "source": [
        "training['Balance Income'] = training['Total_Income']-(training['EMI']*1000)\n",
        "testing['Balance Income'] = testing['Total_Income']-(testing['EMI']*1000)\n",
        "sns.distplot(training['Balance Income'])"
      ]
    },
    {
      "cell_type": "code",
      "execution_count": null,
      "id": "b8e8de22",
      "metadata": {
        "id": "b8e8de22"
      },
      "outputs": [],
      "source": [
        "training=training.drop(['ApplicantIncome', 'CoapplicantIncome', 'LoanAmount', 'Loan_Amount_Term'], axis=1)\n",
        "testing=testing.drop(['ApplicantIncome', 'CoapplicantIncome', 'LoanAmount', 'Loan_Amount_Term'], axis=1)"
      ]
    },
    {
      "cell_type": "markdown",
      "id": "f1fdaea7",
      "metadata": {
        "id": "f1fdaea7"
      },
      "source": [
        "# Model Building Part 2:"
      ]
    },
    {
      "cell_type": "markdown",
      "id": "7e49b04a",
      "metadata": {
        "id": "7e49b04a"
      },
      "source": [
        "## Logistic Regression"
      ]
    },
    {
      "cell_type": "code",
      "execution_count": null,
      "id": "8f95fc2a",
      "metadata": {
        "id": "8f95fc2a"
      },
      "outputs": [],
      "source": [
        "x = training.drop('Loan_Status',1)\n",
        "y = training.Loan_Status"
      ]
    },
    {
      "cell_type": "code",
      "execution_count": null,
      "id": "a51622f3",
      "metadata": {
        "id": "a51622f3",
        "outputId": "fb90184d-c20f-4159-fb70-0d603063a3cc"
      },
      "outputs": [
        {
          "name": "stdout",
          "output_type": "stream",
          "text": [
            "\n",
            "1 of kfold 5\n",
            "accuracy_score 0.7886178861788617\n",
            "\n",
            "2 of kfold 5\n",
            "accuracy_score 0.6910569105691057\n",
            "\n",
            "3 of kfold 5\n",
            "accuracy_score 0.6666666666666666\n",
            "\n",
            "4 of kfold 5\n",
            "accuracy_score 0.7804878048780488\n",
            "\n",
            "5 of kfold 5\n",
            "accuracy_score 0.680327868852459\n",
            "\n",
            " Mean Validation Accuracy 0.7214314274290283\n"
          ]
        }
      ],
      "source": [
        "i=1\n",
        "mean = 0\n",
        "kf = StratifiedKFold(n_splits=5,random_state=1,shuffle=True)\n",
        "for training_index,testing_index in kf.split(x,y):\n",
        " print ('\\n{} of kfold {}'.format(i,kf.n_splits))\n",
        " xtr,xvl = x.loc[training_index],x.loc[testing_index]\n",
        " ytr,yvl = y[training_index],y[testing_index]\n",
        " model = LogisticRegression(random_state=1)\n",
        " model.fit(xtr,ytr)\n",
        " pred_test=model.predict(xvl)\n",
        " score=accuracy_score(yvl,pred_test)\n",
        " mean += score\n",
        " print ('accuracy_score',score)\n",
        " i+=1\n",
        " pred_test = model.predict(testing)\n",
        " pred = model.predict_proba(xvl)[:,1]\n",
        "print ('\\n Mean Validation Accuracy',mean/(i-1))"
      ]
    },
    {
      "cell_type": "code",
      "execution_count": null,
      "id": "ec722571",
      "metadata": {
        "id": "ec722571",
        "outputId": "5757c98a-0f4b-491b-e198-57c99e7c3227"
      },
      "outputs": [
        {
          "data": {
            "image/png": "[encoded data removed]",
            "text/plain": [
              "<Figure size 864x576 with 1 Axes>"
            ]
          },
          "metadata": {
            "needs_background": "light"
          },
          "output_type": "display_data"
        }
      ],
      "source": [
        "from sklearn import metrics\n",
        "fpr, tpr, _ = metrics.roc_curve(yvl, pred)\n",
        "auc = metrics.roc_auc_score(yvl, pred)\n",
        "plt.figure(figsize=(12,8))\n",
        "plt.plot(fpr, tpr, label='validation, auc='+str(auc))\n",
        "plt.xlabel('False Positive Rate')\n",
        "plt.ylabel('True Positive Rate')\n",
        "plt.legend(loc=4)\n",
        "plt.show()"
      ]
    },
    {
      "cell_type": "code",
      "execution_count": null,
      "id": "e972bfef",
      "metadata": {
        "id": "e972bfef"
      },
      "outputs": [],
      "source": [
        "submission['Loan_Status']=pred_test\n",
        "submission['Loan_ID']=test_original['Loan_ID']\n",
        "submission['Loan_Status'].replace(0, 'N', inplace = True)\n",
        "submission['Loan_Status'].replace(1, 'Y', inplace = True)\n",
        "pd.DataFrame(submission, columns=['Loan_ID','Loan_Status']).to_csv('C:\\\\Users\\\\Piyush\\\\Desktop\\\\DataMining\\\\Log2.csv')"
      ]
    },
    {
      "cell_type": "markdown",
      "id": "b52a996e",
      "metadata": {
        "id": "b52a996e"
      },
      "source": [
        "## Decision Tree"
      ]
    },
    {
      "cell_type": "code",
      "execution_count": null,
      "id": "604cbfe9",
      "metadata": {
        "id": "604cbfe9",
        "outputId": "56cbd840-8dc5-4491-b1bf-f6507a932cdf"
      },
      "outputs": [
        {
          "name": "stdout",
          "output_type": "stream",
          "text": [
            "\n",
            "1 of kfold 5 \n",
            "accuracy_score 0.6991869918699187\n",
            "\n",
            "2 of kfold 5 \n",
            "accuracy_score 0.7398373983739838\n",
            "\n",
            "3 of kfold 5 \n",
            "accuracy_score 0.7154471544715447\n",
            "\n",
            "4 of kfold 5 \n",
            "accuracy_score 0.7235772357723578\n",
            "\n",
            "5 of kfold 5 \n",
            "accuracy_score 0.6721311475409836\n",
            "\n",
            " Mean Validation Accuracy 0.7100359856057576\n"
          ]
        }
      ],
      "source": [
        "from sklearn import tree\n",
        "i=1\n",
        "mean = 0\n",
        "kf = StratifiedKFold(n_splits=5,random_state=1,shuffle=True)\n",
        "for training_index,testing_index in kf.split(X,y):\n",
        "    print ('\\n{} of kfold {} '.format(i,kf.n_splits))\n",
        "    xtr,xvl = X.loc[training_index],X.loc[testing_index]\n",
        "    ytr,yvl = y[training_index],y[testing_index]\n",
        "    model = tree.DecisionTreeClassifier(random_state=1)\n",
        "    model.fit(xtr,ytr)\n",
        "    pred_test=model.predict(xvl)\n",
        "    score=accuracy_score(yvl,pred_test)\n",
        "    mean += score\n",
        "    print ('accuracy_score',score)\n",
        "    i+=1\n",
        "    pred_test = model.predict(testing)\n",
        "    pred = model.predict_proba(xvl)[:,1]\n",
        "print ('\\n Mean Validation Accuracy',mean/(i-1))"
      ]
    },
    {
      "cell_type": "code",
      "execution_count": null,
      "id": "f47789af",
      "metadata": {
        "id": "f47789af",
        "outputId": "08bc5810-ef95-47d1-d818-f3bcd71c375c"
      },
      "outputs": [
        {
          "data": {
            "image/png": "[encoded data removed]",
            "text/plain": [
              "<Figure size 864x576 with 1 Axes>"
            ]
          },
          "metadata": {
            "needs_background": "light"
          },
          "output_type": "display_data"
        }
      ],
      "source": [
        "from sklearn import metrics\n",
        "fpr, tpr, _ = metrics.roc_curve(yvl, pred)\n",
        "auc = metrics.roc_auc_score(yvl, pred)\n",
        "plt.figure(figsize=(12,8))\n",
        "plt.plot(fpr, tpr, label='validation, auc='+str(auc))\n",
        "plt.xlabel('False Positive Rate')\n",
        "plt.ylabel('True Positive Rate')\n",
        "plt.legend(loc=4)\n",
        "plt.show()"
      ]
    },
    {
      "cell_type": "code",
      "execution_count": null,
      "id": "b4ec8db5",
      "metadata": {
        "id": "b4ec8db5"
      },
      "outputs": [],
      "source": [
        "submission['Loan_Status']=pred_test\n",
        "submission['Loan_ID']=test_original['Loan_ID']"
      ]
    },
    {
      "cell_type": "code",
      "execution_count": null,
      "id": "c2972ff8",
      "metadata": {
        "id": "c2972ff8"
      },
      "outputs": [],
      "source": [
        "submission['Loan_Status'].replace(0, 'N', inplace=True)\n",
        "submission['Loan_Status'].replace(1, 'Y', inplace=True)"
      ]
    },
    {
      "cell_type": "code",
      "execution_count": null,
      "id": "bb67add9",
      "metadata": {
        "id": "bb67add9"
      },
      "outputs": [],
      "source": [
        "pd.DataFrame(submission, columns=['Loan_ID','Loan_Status']).to_csv('C:\\\\Users\\\\Piyush\\\\Desktop\\\\DataMining\\\\DecisionTree.csv')"
      ]
    },
    {
      "cell_type": "markdown",
      "id": "c69c2f8d",
      "metadata": {
        "id": "c69c2f8d"
      },
      "source": [
        "## Random Forest Tree"
      ]
    },
    {
      "cell_type": "code",
      "execution_count": null,
      "id": "e9b0ae55",
      "metadata": {
        "id": "e9b0ae55",
        "outputId": "ea8c27e4-601b-4d63-f489-91819011e082"
      },
      "outputs": [
        {
          "name": "stdout",
          "output_type": "stream",
          "text": [
            "\n",
            "1 of kfold 5\n",
            "accuracy_score 0.8130081300813008\n",
            "\n",
            "2 of kfold 5\n",
            "accuracy_score 0.8455284552845529\n",
            "\n",
            "3 of kfold 5\n",
            "accuracy_score 0.7967479674796748\n",
            "\n",
            "4 of kfold 5\n",
            "accuracy_score 0.8130081300813008\n",
            "\n",
            "5 of kfold 5\n",
            "accuracy_score 0.7540983606557377\n",
            "\n",
            " Mean Validation Accuracy 0.8044782087165135\n"
          ]
        }
      ],
      "source": [
        "from sklearn.ensemble import RandomForestClassifier\n",
        "i=1\n",
        "mean = 0\n",
        "kf = StratifiedKFold(n_splits=5,random_state=1,shuffle=True)\n",
        "for training_index,testing_index in kf.split(X,y):\n",
        " print ('\\n{} of kfold {}'.format(i,kf.n_splits))\n",
        " xtr,xvl = X.loc[training_index],X.loc[testing_index]\n",
        " ytr,yvl = y[training_index],y[testing_index]\n",
        " model = RandomForestClassifier(random_state=1, max_depth=10)\n",
        " model.fit(xtr,ytr)\n",
        " pred_test=model.predict(xvl)\n",
        " score=accuracy_score(yvl,pred_test)\n",
        " mean += score\n",
        " print ('accuracy_score',score)\n",
        " i+=1\n",
        " pred_test = model.predict(testing)\n",
        " pred = model.predict_proba(xvl)[:,1]\n",
        "print ('\\n Mean Validation Accuracy',mean/(i-1))"
      ]
    },
    {
      "cell_type": "code",
      "execution_count": null,
      "id": "dbf57f24",
      "metadata": {
        "id": "dbf57f24",
        "outputId": "cea9e9e4-b784-491c-ec5e-f96d5e172a3c"
      },
      "outputs": [
        {
          "data": {
            "image/png": "[encoded data removed]",
            "text/plain": [
              "<Figure size 864x576 with 1 Axes>"
            ]
          },
          "metadata": {
            "needs_background": "light"
          },
          "output_type": "display_data"
        }
      ],
      "source": [
        "from sklearn import metrics\n",
        "fpr, tpr, _ = metrics.roc_curve(yvl, pred)\n",
        "auc = metrics.roc_auc_score(yvl, pred)\n",
        "plt.figure(figsize=(12,8))\n",
        "plt.plot(fpr, tpr, label='validation, auc='+str(auc))\n",
        "plt.xlabel('False Positive Rate')\n",
        "plt.ylabel('True Positive Rate')\n",
        "plt.legend(loc=4)\n",
        "plt.show()"
      ]
    },
    {
      "cell_type": "markdown",
      "id": "1437678a",
      "metadata": {
        "id": "1437678a"
      },
      "source": [
        "## Grid Search"
      ]
    },
    {
      "cell_type": "code",
      "execution_count": null,
      "id": "7f2b6229",
      "metadata": {
        "id": "7f2b6229",
        "outputId": "253e6ec7-929b-4e48-c025-38f92c9e16a7"
      },
      "outputs": [
        {
          "name": "stdout",
          "output_type": "stream",
          "text": [
            "\n",
            "1 of kfold 5 \n",
            "accuracy_score 0.8130081300813008\n",
            "\n",
            "2 of kfold 5 \n",
            "accuracy_score 0.8211382113821138\n",
            "\n",
            "3 of kfold 5 \n",
            "accuracy_score 0.7967479674796748\n",
            "\n",
            "4 of kfold 5 \n",
            "accuracy_score 0.8130081300813008\n",
            "\n",
            "5 of kfold 5 \n",
            "accuracy_score 0.7950819672131147\n",
            "\n",
            " Mean Validation Accuracy 0.807796881247501\n"
          ]
        }
      ],
      "source": [
        "from sklearn.model_selection import GridSearchCV\n",
        "paramgrid = {'max_depth': list(range(1,20,2)), 'n_estimators': list(range(1,200,20))}\n",
        "grid_search=GridSearchCV(RandomForestClassifier(random_state=1),paramgrid)\n",
        "from sklearn.model_selection import train_test_split\n",
        "x_training, x_cv, y_training, y_cv = train_test_split(X,y, test_size=0.3, random_state=1)\n",
        "grid_search.fit(x_training,y_training)\n",
        "GridSearchCV(estimator=RandomForestClassifier(random_state=1),\n",
        "             param_grid={'max_depth': [1, 3, 5, 7, 9, 11, 13, 15, 17, 19],\n",
        "                         'n_estimators': [1, 21, 41, 61, 81, 101, 121, 141, 161,\n",
        "                                          181]})\n",
        "grid_search.best_estimator_\n",
        "RandomForestClassifier(max_depth=5, n_estimators=41, random_state=1)\n",
        "i=1\n",
        "mean = 0\n",
        "kf = StratifiedKFold(n_splits=5,random_state=1,shuffle=True)\n",
        "for training_index,testing_index in kf.split(X,y):\n",
        "    print ('\\n{} of kfold {} '.format(i,kf.n_splits))\n",
        "    xtr,xvl = X.loc[training_index],X.loc[testing_index]\n",
        "    ytr,yvl = y[training_index],y[testing_index]\n",
        "    model = RandomForestClassifier(random_state=1, max_depth=3, n_estimators=41)\n",
        "    model.fit(xtr,ytr)\n",
        "    pred_test = model.predict(xvl)\n",
        "    score = accuracy_score(yvl,pred_test)\n",
        "    mean += score\n",
        "    print ('accuracy_score',score)\n",
        "    i+=1\n",
        "    pred_test = model.predict(testing)\n",
        "    pred = model.predict_proba(xvl)[:,1]\n",
        "print ('\\n Mean Validation Accuracy',mean/(i-1))"
      ]
    },
    {
      "cell_type": "code",
      "execution_count": null,
      "id": "ee3f27a9",
      "metadata": {
        "id": "ee3f27a9",
        "outputId": "47279975-921c-4b1d-955c-87488a417f09"
      },
      "outputs": [
        {
          "data": {
            "image/png": "[encoded data removed]",
            "text/plain": [
              "<Figure size 864x576 with 1 Axes>"
            ]
          },
          "metadata": {
            "needs_background": "light"
          },
          "output_type": "display_data"
        }
      ],
      "source": [
        "from sklearn import metrics\n",
        "fpr, tpr, _ = metrics.roc_curve(yvl, pred)\n",
        "auc = metrics.roc_auc_score(yvl, pred)\n",
        "plt.figure(figsize=(12,8))\n",
        "plt.plot(fpr, tpr, label='validation, auc='+str(auc))\n",
        "plt.xlabel('False Positive Rate')\n",
        "plt.ylabel('True Positive Rate')\n",
        "plt.legend(loc=4)\n",
        "plt.show()"
      ]
    },
    {
      "cell_type": "code",
      "execution_count": null,
      "id": "51d5ab01",
      "metadata": {
        "id": "51d5ab01"
      },
      "outputs": [],
      "source": [
        "submission['Loan_Status']=pred_test\n",
        "submission['Loan_ID']=test_original['Loan_ID']"
      ]
    },
    {
      "cell_type": "code",
      "execution_count": null,
      "id": "c3806446",
      "metadata": {
        "id": "c3806446"
      },
      "outputs": [],
      "source": [
        "submission['Loan_Status'].replace(0, 'N', inplace=True)\n",
        "submission['Loan_Status'].replace(1, 'Y', inplace=True)"
      ]
    },
    {
      "cell_type": "code",
      "execution_count": null,
      "id": "d3b09e50",
      "metadata": {
        "id": "d3b09e50"
      },
      "outputs": [],
      "source": [
        "pd.DataFrame(submission, columns=['Loan_ID','Loan_Status']).to_csv('C:\\\\Users\\\\Piyush\\\\Desktop\\\\DataMining\\\\RandomForest.csv')"
      ]
    },
    {
      "cell_type": "markdown",
      "id": "fbcbf0ad",
      "metadata": {
        "id": "fbcbf0ad"
      },
      "source": [
        "## Important Features:"
      ]
    },
    {
      "cell_type": "code",
      "execution_count": null,
      "id": "ed36dedc",
      "metadata": {
        "id": "ed36dedc",
        "outputId": "25ecec93-9432-4ca8-bf38-f57ecfd2d20c"
      },
      "outputs": [
        {
          "data": {
            "text/plain": [
              "<AxesSubplot:>"
            ]
          },
          "execution_count": 74,
          "metadata": {},
          "output_type": "execute_result"
        },
        {
          "data": {
            "image/png": "[encoded data removed]",
            "text/plain": [
              "<Figure size 864x576 with 1 Axes>"
            ]
          },
          "metadata": {
            "needs_background": "light"
          },
          "output_type": "display_data"
        }
      ],
      "source": [
        "important=pd.Series(model.feature_importances_, index=X.columns)\n",
        "important.plot(kind='barh', figsize=(12,8))"
      ]
    },
    {
      "cell_type": "markdown",
      "id": "06d3f65a",
      "metadata": {
        "id": "06d3f65a"
      },
      "source": [
        "## XGBoost"
      ]
    },
    {
      "cell_type": "code",
      "execution_count": null,
      "id": "7ebce76b",
      "metadata": {
        "id": "7ebce76b",
        "outputId": "ee80cf2e-29f0-4e40-8714-1e3217596af7"
      },
      "outputs": [
        {
          "name": "stdout",
          "output_type": "stream",
          "text": [
            "\n",
            "1 of kfold 5\n",
            "[19:20:42] WARNING: C:/Users/Administrator/workspace/xgboost-win64_release_1.5.1/src/learner.cc:1115: Starting in XGBoost 1.3.0, the default evaluation metric used with the objective 'binary:logistic' was changed from 'error' to 'logloss'. Explicitly set eval_metric if you'd like to restore the old behavior.\n",
            "accuracy_score 0.8130081300813008\n",
            "\n",
            "2 of kfold 5\n",
            "[19:20:42] WARNING: C:/Users/Administrator/workspace/xgboost-win64_release_1.5.1/src/learner.cc:1115: Starting in XGBoost 1.3.0, the default evaluation metric used with the objective 'binary:logistic' was changed from 'error' to 'logloss'. Explicitly set eval_metric if you'd like to restore the old behavior.\n",
            "accuracy_score 0.7967479674796748\n",
            "\n",
            "3 of kfold 5\n",
            "[19:20:43] WARNING: C:/Users/Administrator/workspace/xgboost-win64_release_1.5.1/src/learner.cc:1115: Starting in XGBoost 1.3.0, the default evaluation metric used with the objective 'binary:logistic' was changed from 'error' to 'logloss'. Explicitly set eval_metric if you'd like to restore the old behavior.\n",
            "accuracy_score 0.7886178861788617\n",
            "\n",
            "4 of kfold 5\n",
            "[19:20:43] WARNING: C:/Users/Administrator/workspace/xgboost-win64_release_1.5.1/src/learner.cc:1115: Starting in XGBoost 1.3.0, the default evaluation metric used with the objective 'binary:logistic' was changed from 'error' to 'logloss'. Explicitly set eval_metric if you'd like to restore the old behavior.\n",
            "accuracy_score 0.7723577235772358\n",
            "\n",
            "5 of kfold 5\n",
            "[19:20:43] WARNING: C:/Users/Administrator/workspace/xgboost-win64_release_1.5.1/src/learner.cc:1115: Starting in XGBoost 1.3.0, the default evaluation metric used with the objective 'binary:logistic' was changed from 'error' to 'logloss'. Explicitly set eval_metric if you'd like to restore the old behavior.\n",
            "accuracy_score 0.7704918032786885\n",
            "\n",
            " Mean Validation Accuracy 0.7882447021191524\n"
          ]
        }
      ],
      "source": [
        "from xgboost import XGBClassifier\n",
        "import xgboost as xgb\n",
        "i=1\n",
        "mean = 0\n",
        "kf = StratifiedKFold(n_splits=5,random_state=1,shuffle=True)\n",
        "for training_index,testing_index in kf.split(X,y):\n",
        " print('\\n{} of kfold {}'.format(i,kf.n_splits))\n",
        " xtr,xvl = X.loc[training_index],X.loc[testing_index]\n",
        " ytr,yvl = y[training_index],y[testing_index]\n",
        " model = XGBClassifier(n_estimators=50, max_depth=4)\n",
        " model.fit(xtr, ytr)\n",
        " pred_test = model.predict(xvl)\n",
        " score = accuracy_score(yvl,pred_test)\n",
        " mean += score\n",
        " print ('accuracy_score',score)\n",
        " i+=1\n",
        " pred_test = model.predict(testing)\n",
        " pred = model.predict_proba(xvl)[:,1]\n",
        "print ('\\n Mean Validation Accuracy',mean/(i-1))"
      ]
    },
    {
      "cell_type": "code",
      "execution_count": null,
      "id": "0139d8b4",
      "metadata": {
        "id": "0139d8b4",
        "outputId": "1d99b05f-0e1c-4e35-da20-9aee26600b1a"
      },
      "outputs": [
        {
          "data": {
            "image/png": "[encoded data removed]",
            "text/plain": [
              "<Figure size 864x576 with 1 Axes>"
            ]
          },
          "metadata": {
            "needs_background": "light"
          },
          "output_type": "display_data"
        }
      ],
      "source": [
        "from sklearn import metrics\n",
        "fpr, tpr, _ = metrics.roc_curve(yvl, pred)\n",
        "auc = metrics.roc_auc_score(yvl, pred)\n",
        "plt.figure(figsize=(12,8))\n",
        "plt.plot(fpr, tpr, label='validation, auc='+str(auc))\n",
        "plt.xlabel('False Positive Rate')\n",
        "plt.ylabel('True Positive Rate')\n",
        "plt.legend(loc=4)\n",
        "plt.show()"
      ]
    },
    {
      "cell_type": "code",
      "execution_count": null,
      "id": "b3c6dffa",
      "metadata": {
        "id": "b3c6dffa"
      },
      "outputs": [],
      "source": [
        "submission['Loan_Status']=pred_test\n",
        "submission['Loan_ID']=test_original['Loan_ID']"
      ]
    },
    {
      "cell_type": "code",
      "execution_count": null,
      "id": "9f05fb8b",
      "metadata": {
        "id": "9f05fb8b"
      },
      "outputs": [],
      "source": [
        "submission['Loan_Status'].replace(0, 'N', inplace=True)\n",
        "submission['Loan_Status'].replace(1, 'Y', inplace=True)"
      ]
    },
    {
      "cell_type": "code",
      "execution_count": null,
      "id": "5fb1778b",
      "metadata": {
        "id": "5fb1778b"
      },
      "outputs": [],
      "source": [
        "pd.DataFrame(submission, columns=['Loan_ID','Loan_Status']).to_csv('C:\\\\Users\\\\Piyush\\\\Desktop\\\\DataMining\\\\XGBoost.csv')"
      ]
    }
  ],
  "metadata": {
    "kernelspec": {
      "display_name": "Python 3",
      "language": "python",
      "name": "python3"
    },
    "language_info": {
      "codemirror_mode": {
        "name": "ipython",
        "version": 3
      },
      "file_extension": ".py",
      "mimetype": "text/x-python",
      "name": "python",
      "nbconvert_exporter": "python",
      "pygments_lexer": "ipython3",
      "version": "3.8.8"
    },
    "colab": {
      "provenance": []
    }
  },
  "nbformat": 4,
  "nbformat_minor": 5
}